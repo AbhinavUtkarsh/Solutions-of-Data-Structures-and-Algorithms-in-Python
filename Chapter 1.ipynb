{
 "cells": [
  {
   "cell_type": "markdown",
   "metadata": {},
   "source": [
    "# Chapter 1 Python Primer"
   ]
  },
  {
   "cell_type": "markdown",
   "metadata": {},
   "source": [
    "## 1) Write a short Python function, is multiple(n, m), that takes two integer values and returns True if n is a multiple of m, that is, n = mi for some integer i, and False otherwise."
   ]
  },
  {
   "cell_type": "code",
   "execution_count": 237,
   "metadata": {},
   "outputs": [],
   "source": [
    "#1\n",
    "n=10\n",
    "m=20\n",
    "def isMultiple(m,n):\n",
    "    state=True\n",
    "    return True if m%n==0 else False"
   ]
  },
  {
   "cell_type": "code",
   "execution_count": 238,
   "metadata": {},
   "outputs": [
    {
     "data": {
      "text/plain": [
       "False"
      ]
     },
     "execution_count": 238,
     "metadata": {},
     "output_type": "execute_result"
    }
   ],
   "source": [
    "isMultiple(n,m)"
   ]
  },
  {
   "cell_type": "markdown",
   "metadata": {},
   "source": [
    "## 2) Write a short Python function, is even(k), that takes an integer value and returns True if k is even, and False otherwise. However, your function cannot use the multiplication, modulo, or division operators."
   ]
  },
  {
   "cell_type": "code",
   "execution_count": 239,
   "metadata": {},
   "outputs": [],
   "source": [
    "#2\n",
    "def iseven(n):\n",
    "    return True if int(bin(n)[-1])!=1 else False"
   ]
  },
  {
   "cell_type": "code",
   "execution_count": 240,
   "metadata": {},
   "outputs": [
    {
     "data": {
      "text/plain": [
       "True"
      ]
     },
     "execution_count": 240,
     "metadata": {},
     "output_type": "execute_result"
    }
   ],
   "source": [
    "iseven(10)\n",
    "\n"
   ]
  },
  {
   "cell_type": "code",
   "execution_count": 241,
   "metadata": {},
   "outputs": [
    {
     "data": {
      "text/plain": [
       "False"
      ]
     },
     "execution_count": 241,
     "metadata": {},
     "output_type": "execute_result"
    }
   ],
   "source": [
    "iseven(1)"
   ]
  },
  {
   "cell_type": "markdown",
   "metadata": {},
   "source": [
    "## 3) Write a short Python function, minmax(data), that takes a sequence of one or more numbers, and returns the smallest and largest numbers, in the form of a tuple of length two. Do not use the built-in functions min or max in implementing your solution."
   ]
  },
  {
   "cell_type": "code",
   "execution_count": 242,
   "metadata": {},
   "outputs": [],
   "source": [
    "#3\n",
    "def minmax(seq):\n",
    "    tup=()\n",
    "    minima=56789\n",
    "    maxima=-8765\n",
    "    for i in seq:\n",
    "        maxima = i if i>maxima else maxima\n",
    "        minima = i if i<minima else minima\n",
    "    return (maxima,minima)\n",
    "        "
   ]
  },
  {
   "cell_type": "code",
   "execution_count": 243,
   "metadata": {},
   "outputs": [
    {
     "data": {
      "text/plain": [
       "(4, -1)"
      ]
     },
     "execution_count": 243,
     "metadata": {},
     "output_type": "execute_result"
    }
   ],
   "source": [
    "minmax([-1,2,3,4])"
   ]
  },
  {
   "cell_type": "markdown",
   "metadata": {},
   "source": [
    "## 4) Write a short Python function that takes a positive integer n and returns the sum of the squares of all the positive integers smaller than n."
   ]
  },
  {
   "cell_type": "code",
   "execution_count": 244,
   "metadata": {},
   "outputs": [],
   "source": [
    "#4\n",
    "def square(n):\n",
    "    return sum([k*k for k in range(1,n)])"
   ]
  },
  {
   "cell_type": "code",
   "execution_count": 245,
   "metadata": {},
   "outputs": [
    {
     "data": {
      "text/plain": [
       "30"
      ]
     },
     "execution_count": 245,
     "metadata": {},
     "output_type": "execute_result"
    }
   ],
   "source": [
    "square(5)"
   ]
  },
  {
   "cell_type": "markdown",
   "metadata": {},
   "source": [
    "## 5) Give a single command that computes the sum from Exercise R-1.4, rely- ing on Python’s comprehension syntax and the built-in sum function."
   ]
  },
  {
   "cell_type": "code",
   "execution_count": 246,
   "metadata": {},
   "outputs": [
    {
     "data": {
      "text/plain": [
       "30"
      ]
     },
     "execution_count": 246,
     "metadata": {},
     "output_type": "execute_result"
    }
   ],
   "source": [
    "#5\n",
    "n=5\n",
    "total_square_sum=sum([k*k for k in range(1,n)])\n",
    "total_square_sum"
   ]
  },
  {
   "cell_type": "markdown",
   "metadata": {},
   "source": [
    "## 6) Write a short Python function that takes a positive integer n and returns the sum of the squares of all the odd positive integers smaller than n."
   ]
  },
  {
   "cell_type": "code",
   "execution_count": 247,
   "metadata": {},
   "outputs": [],
   "source": [
    "#6\n",
    "def oddSquareSum(n):\n",
    "    return sum([k*k for k in range(1,n) if k%2==1])"
   ]
  },
  {
   "cell_type": "code",
   "execution_count": 248,
   "metadata": {},
   "outputs": [
    {
     "data": {
      "text/plain": [
       "10"
      ]
     },
     "execution_count": 248,
     "metadata": {},
     "output_type": "execute_result"
    }
   ],
   "source": [
    "oddSquareSum(5)"
   ]
  },
  {
   "cell_type": "markdown",
   "metadata": {},
   "source": [
    "## 7) Give a single command that computes the sum from Exercise R-1.6, rely- ing on Python’s comprehension syntax and the built-in sum function."
   ]
  },
  {
   "cell_type": "code",
   "execution_count": 249,
   "metadata": {},
   "outputs": [
    {
     "data": {
      "text/plain": [
       "10"
      ]
     },
     "execution_count": 249,
     "metadata": {},
     "output_type": "execute_result"
    }
   ],
   "source": [
    "#7\n",
    "totalOddSum=sum([k*k for k in range(1,n) if k%2==1])\n",
    "totalOddSum"
   ]
  },
  {
   "cell_type": "markdown",
   "metadata": {},
   "source": [
    "## 8) Python allows negative integers to be used as indices into a sequence, such as a string. If string s has length n, and expression s[k] is used for in- dex −n ≤ k < 0, what is the equivalent index j ≥ 0 such that s[j] references the same element?\n"
   ]
  },
  {
   "cell_type": "code",
   "execution_count": 250,
   "metadata": {},
   "outputs": [
    {
     "name": "stdout",
     "output_type": "stream",
     "text": [
      "f\n",
      "f\n"
     ]
    }
   ],
   "source": [
    "#8\n",
    "s=\"acdefgh\"\n",
    "print(s[-3])\n",
    "print(s[len(s)-3])"
   ]
  },
  {
   "cell_type": "markdown",
   "metadata": {},
   "source": [
    "## 9) What parameters should be sent to the range constructor, to produce a range with values 50, 60, 70, 80?"
   ]
  },
  {
   "cell_type": "code",
   "execution_count": 251,
   "metadata": {},
   "outputs": [
    {
     "data": {
      "text/plain": [
       "[50, 60, 70, 80]"
      ]
     },
     "execution_count": 251,
     "metadata": {},
     "output_type": "execute_result"
    }
   ],
   "source": [
    "#9\n",
    "l=[i for i in range(50,90,10)]\n",
    "l"
   ]
  },
  {
   "cell_type": "markdown",
   "metadata": {},
   "source": [
    "## 10) What parameters should be sent to the range constructor, to produce a range with values 8, 6, 4, 2, 0, −2, −4, −6, −8?"
   ]
  },
  {
   "cell_type": "code",
   "execution_count": 252,
   "metadata": {},
   "outputs": [
    {
     "data": {
      "text/plain": [
       "[8, 6, 4, 2, 0, -2, -4, -6, -8]"
      ]
     },
     "execution_count": 252,
     "metadata": {},
     "output_type": "execute_result"
    }
   ],
   "source": [
    "#10\n",
    "l=[i for i in range(8,-9,-2)]\n",
    "l"
   ]
  },
  {
   "cell_type": "markdown",
   "metadata": {},
   "source": [
    "## 11) Demonstrate how to use Python’s list comprehension syntax to produce the list [1, 2, 4, 8, 16, 32, 64, 128, 256]."
   ]
  },
  {
   "cell_type": "code",
   "execution_count": 253,
   "metadata": {},
   "outputs": [
    {
     "data": {
      "text/plain": [
       "[1, 2, 4, 8, 16, 32, 64, 128, 256]"
      ]
     },
     "execution_count": 253,
     "metadata": {},
     "output_type": "execute_result"
    }
   ],
   "source": [
    "#11\n",
    "l=[pow(2,i) for i in range(0,9)]\n",
    "l"
   ]
  },
  {
   "cell_type": "markdown",
   "metadata": {},
   "source": [
    "## 12) Python’s random module includes a function choice(data) that returns a random element from a non-empty sequence. The random module in- cludes a more basic function randrange, with parameterization similar to the built-in range function, that return a random choice from the given range. Using only the randrange function, implement your own version of the choice function."
   ]
  },
  {
   "cell_type": "code",
   "execution_count": 254,
   "metadata": {},
   "outputs": [],
   "source": [
    "#12\n",
    "# using the old l from last quesiton\n",
    "import random\n",
    "def choice(data): \n",
    "    try:\n",
    "        return data[random.randrange(1,len(data))]\n",
    "    except Exception as e:\n",
    "        print(\"Null list\", e)"
   ]
  },
  {
   "cell_type": "code",
   "execution_count": 255,
   "metadata": {},
   "outputs": [
    {
     "name": "stdout",
     "output_type": "stream",
     "text": [
      "Null list empty range for randrange() (1, 0, -1)\n"
     ]
    }
   ],
   "source": [
    "choice([])"
   ]
  },
  {
   "cell_type": "code",
   "execution_count": 256,
   "metadata": {},
   "outputs": [
    {
     "data": {
      "text/plain": [
       "32"
      ]
     },
     "execution_count": 256,
     "metadata": {},
     "output_type": "execute_result"
    }
   ],
   "source": [
    "choice(l)"
   ]
  },
  {
   "cell_type": "markdown",
   "metadata": {},
   "source": [
    "## 13) Write a pseudo-code description of a function that reverses a list of n integers, so that the numbers are listed in the opposite order than they were before, and compare this method to an equivalent Python function for doing the same thing. "
   ]
  },
  {
   "cell_type": "code",
   "execution_count": 257,
   "metadata": {},
   "outputs": [],
   "source": [
    "#13\n",
    "def reverse(data):\n",
    "    return data[::-1]"
   ]
  },
  {
   "cell_type": "code",
   "execution_count": 258,
   "metadata": {},
   "outputs": [
    {
     "data": {
      "text/plain": [
       "[256, 128, 64, 32, 16, 8, 4, 2, 1]"
      ]
     },
     "execution_count": 258,
     "metadata": {},
     "output_type": "execute_result"
    }
   ],
   "source": [
    "reverse(l)"
   ]
  },
  {
   "cell_type": "code",
   "execution_count": 259,
   "metadata": {},
   "outputs": [
    {
     "data": {
      "text/plain": [
       "[1, 2, 4, 8, 16, 32, 64, 128, 256]"
      ]
     },
     "execution_count": 259,
     "metadata": {},
     "output_type": "execute_result"
    }
   ],
   "source": [
    "l"
   ]
  },
  {
   "cell_type": "code",
   "execution_count": 260,
   "metadata": {},
   "outputs": [
    {
     "data": {
      "text/plain": [
       "[256, 128, 64, 32, 16, 8, 4, 2, 1]"
      ]
     },
     "execution_count": 260,
     "metadata": {},
     "output_type": "execute_result"
    }
   ],
   "source": [
    "l.reverse()\n",
    "l"
   ]
  },
  {
   "cell_type": "markdown",
   "metadata": {},
   "source": [
    "## 14) Write a short Python function that takes a sequence of integer values and determines if there is a distinct pair of numbers in the sequence whose product is odd."
   ]
  },
  {
   "cell_type": "code",
   "execution_count": 261,
   "metadata": {},
   "outputs": [],
   "source": [
    "#14\n",
    "def pairProductOdd(data):\n",
    "    res=[]\n",
    "    pair=()\n",
    "    for i in range(len(data)):\n",
    "        for j in range(i,len(data)):\n",
    "            if (data[i]*data[j])%2==1:\n",
    "                pair=(data[i],data[j])\n",
    "                res.append(pair)\n",
    "    return res\n",
    "def pairProductOdd2(data):\n",
    "    counter=0 # for counting if there are 2 odds or not in the list\n",
    "    for i in data:\n",
    "        if i%2!=0:\n",
    "            counter+=1\n",
    "        if counter==2:\n",
    "            return True\n",
    "            break\n",
    "    return False\n",
    "def pairProductOdd3(data):\n",
    "    return [i for i in data if i & 1 == 1]\n",
    "    "
   ]
  },
  {
   "cell_type": "code",
   "execution_count": 262,
   "metadata": {},
   "outputs": [
    {
     "data": {
      "text/plain": [
       "[(1, 1),\n",
       " (1, 3),\n",
       " (1, 5),\n",
       " (1, 7),\n",
       " (1, 7),\n",
       " (3, 3),\n",
       " (3, 5),\n",
       " (3, 7),\n",
       " (3, 7),\n",
       " (5, 5),\n",
       " (5, 7),\n",
       " (5, 7),\n",
       " (7, 7),\n",
       " (7, 7),\n",
       " (7, 7)]"
      ]
     },
     "execution_count": 262,
     "metadata": {},
     "output_type": "execute_result"
    }
   ],
   "source": [
    "k=[1,2,3,4,5,6,6,7,7]\n",
    "pairProductOdd(k)"
   ]
  },
  {
   "cell_type": "code",
   "execution_count": 263,
   "metadata": {},
   "outputs": [
    {
     "data": {
      "text/plain": [
       "True"
      ]
     },
     "execution_count": 263,
     "metadata": {},
     "output_type": "execute_result"
    }
   ],
   "source": [
    "pairProductOdd2(k)"
   ]
  },
  {
   "cell_type": "code",
   "execution_count": 264,
   "metadata": {},
   "outputs": [
    {
     "data": {
      "text/plain": [
       "False"
      ]
     },
     "execution_count": 264,
     "metadata": {},
     "output_type": "execute_result"
    }
   ],
   "source": [
    "pairProductOdd2(l)\n",
    "#l=[256, 128, 64, 32, 16, 8, 4, 2, 1]"
   ]
  },
  {
   "cell_type": "code",
   "execution_count": 265,
   "metadata": {},
   "outputs": [
    {
     "data": {
      "text/plain": [
       "[1, 3, 5, 7, 7]"
      ]
     },
     "execution_count": 265,
     "metadata": {},
     "output_type": "execute_result"
    }
   ],
   "source": [
    "pairProductOdd3(k)"
   ]
  },
  {
   "cell_type": "markdown",
   "metadata": {},
   "source": [
    "## 15) Write a Python function that takes a sequence of numbers and determines if all the numbers are different from each other (that is, they are distinct)."
   ]
  },
  {
   "cell_type": "code",
   "execution_count": 266,
   "metadata": {},
   "outputs": [],
   "source": [
    "#15\n",
    "def isUnique(data):\n",
    "    return len(set(data))==len(data)"
   ]
  },
  {
   "cell_type": "code",
   "execution_count": 267,
   "metadata": {},
   "outputs": [
    {
     "data": {
      "text/plain": [
       "True"
      ]
     },
     "execution_count": 267,
     "metadata": {},
     "output_type": "execute_result"
    }
   ],
   "source": [
    "l=[1,2,3,4]\n",
    "isUnique(l)"
   ]
  },
  {
   "cell_type": "code",
   "execution_count": 268,
   "metadata": {},
   "outputs": [
    {
     "data": {
      "text/plain": [
       "False"
      ]
     },
     "execution_count": 268,
     "metadata": {},
     "output_type": "execute_result"
    }
   ],
   "source": [
    "l=[1,2,3,3]\n",
    "isUnique(l)"
   ]
  },
  {
   "cell_type": "markdown",
   "metadata": {},
   "source": [
    "## 16) In our implementation of the scale function (page25), the body of the loop executes the command data[j]   = factor. We have discussed that numeric types are immutable, and that use of the   = operator in this context causes the creation of a new instance (not the mutation of an existing instance). How is it still possible, then, that our implementation of scale changes the actual parameter sent by the caller?"
   ]
  },
  {
   "cell_type": "code",
   "execution_count": 269,
   "metadata": {},
   "outputs": [
    {
     "data": {
      "text/plain": [
       "[10, 20, 30]"
      ]
     },
     "execution_count": 269,
     "metadata": {},
     "output_type": "execute_result"
    }
   ],
   "source": [
    "#16 \n",
    "\"\"\"\n",
    "def scale(data, factor):\n",
    "    for j in range(len(data)):\n",
    "        data[j]   *= factor\n",
    "\"\"\"\n",
    "# Here the location that the list was point as was changed to the a new location not the int itself\n",
    "# this will be clear by the example bellow\n",
    "a=10\n",
    "b=20\n",
    "c=30\n",
    "l=[a,b,c]\n",
    "l"
   ]
  },
  {
   "cell_type": "code",
   "execution_count": 270,
   "metadata": {},
   "outputs": [],
   "source": [
    "l[2]=100"
   ]
  },
  {
   "cell_type": "code",
   "execution_count": 271,
   "metadata": {},
   "outputs": [
    {
     "data": {
      "text/plain": [
       "[10, 20, 100]"
      ]
     },
     "execution_count": 271,
     "metadata": {},
     "output_type": "execute_result"
    }
   ],
   "source": [
    "l\n",
    "#so where we can see now l[2] has its pointing at 100"
   ]
  },
  {
   "cell_type": "code",
   "execution_count": 272,
   "metadata": {},
   "outputs": [
    {
     "data": {
      "text/plain": [
       "30"
      ]
     },
     "execution_count": 272,
     "metadata": {},
     "output_type": "execute_result"
    }
   ],
   "source": [
    "c\n",
    "# but our c still has the old vlaue, hence a new int instance is created for l[2] being 100"
   ]
  },
  {
   "cell_type": "markdown",
   "metadata": {},
   "source": [
    "## 17) Had we implemented the scale function (page 25) as follows, does it work properly?\n",
    "    def scale(data, factor): \n",
    "        for val in data:\n",
    "            val   *= factor\n",
    "## Explain why or why not."
   ]
  },
  {
   "cell_type": "code",
   "execution_count": 273,
   "metadata": {},
   "outputs": [
    {
     "name": "stdout",
     "output_type": "stream",
     "text": [
      "2 4 6 "
     ]
    }
   ],
   "source": [
    "#17\n",
    "\"\"\"In this case we would be just trying to make the single atomic element equal to another number \n",
    "so let's say array is a=[1,2,3] then val is 1 in 1st iteration. SO now if we use val*=3 the value\n",
    "would be tripled and given to val but this would be a new int instance and hence the original\n",
    "list would be unaffected, see the example bellow.\n",
    "\"\"\"\n",
    "l=[1,2,3]\n",
    "for i in l:\n",
    "    i*=2\n",
    "    print(i,end=\" \")"
   ]
  },
  {
   "cell_type": "code",
   "execution_count": 274,
   "metadata": {},
   "outputs": [
    {
     "data": {
      "text/plain": [
       "[1, 2, 3]"
      ]
     },
     "execution_count": 274,
     "metadata": {},
     "output_type": "execute_result"
    }
   ],
   "source": [
    "l"
   ]
  },
  {
   "cell_type": "markdown",
   "metadata": {},
   "source": [
    "## 18) Demonstrate how to use Python’s list comprehension syntax to produce\n",
    "    the list [0, 2, 6, 12, 20, 30, 42, 56, 72, 90]."
   ]
  },
  {
   "cell_type": "code",
   "execution_count": 275,
   "metadata": {},
   "outputs": [
    {
     "data": {
      "text/plain": [
       "[0, 2, 6, 12, 20, 30, 42, 56, 72, 90]"
      ]
     },
     "execution_count": 275,
     "metadata": {},
     "output_type": "execute_result"
    }
   ],
   "source": [
    "#18\n",
    "l=[i*(i+1) for i in range(0,10)]\n",
    "l"
   ]
  },
  {
   "cell_type": "markdown",
   "metadata": {},
   "source": [
    "## 19) Demonstrate how to use Python’s list comprehension syntax to produce the list [ a , b , c ,..., z ] ,but without having to type all 26 such characters literally."
   ]
  },
  {
   "cell_type": "code",
   "execution_count": 276,
   "metadata": {},
   "outputs": [],
   "source": [
    "#19\n",
    "alpha=[chr(i) for i in range(ord(\"a\"),ord(\"z\")+1)]"
   ]
  },
  {
   "cell_type": "code",
   "execution_count": null,
   "metadata": {},
   "outputs": [],
   "source": [
    "print(alpha,end=\" \")"
   ]
  },
  {
   "cell_type": "markdown",
   "metadata": {},
   "source": [
    "## 20) Python’s random module includes a function shuffle(data) that accepts a list of elements and randomly reorders the elements so that each possible order occurs with equal probability. The random module includes a more basic function randint(a, b) that returns a uniformly random integer from a to b (including both endpoints). Using only the randint function, implement your own version of the shuffle function. "
   ]
  },
  {
   "cell_type": "code",
   "execution_count": null,
   "metadata": {},
   "outputs": [],
   "source": [
    "#20\n",
    "import random\n",
    "def shuffle(data,indexList):\n",
    "    index=random.randint(0,len(indexList)-1)\n",
    "    random_Element=data[indexList[index]]\n",
    "    indexList.pop(index)\n",
    "    return random_Element\n",
    "def ourShuffle(data):\n",
    "    index=list(range(len(data)))\n",
    "    return [shuffle(data,index) for i in range(len(data))]\n",
    "    "
   ]
  },
  {
   "cell_type": "code",
   "execution_count": null,
   "metadata": {},
   "outputs": [],
   "source": [
    "ourShuffle(l)\n",
    "#l=[0, 2, 6, 12, 20, 30, 42, 56, 72, 90]"
   ]
  },
  {
   "cell_type": "markdown",
   "metadata": {},
   "source": [
    "## 21) Write a Python program that repeatedly reads lines from standard input until an EOFError is raised, and then outputs those lines in reverse order (a user can indicate end of input by typing ctrl-D)."
   ]
  },
  {
   "cell_type": "code",
   "execution_count": null,
   "metadata": {},
   "outputs": [],
   "source": [
    "#21\n",
    "data=[]\n",
    "def read(data):\n",
    "    num=1\n",
    "    if num>0:\n",
    "        try: \n",
    "            num=int(input(\"Enter a positive number: \"))\n",
    "            data.append(num)\n",
    "            if num<0:\n",
    "                print(\"Number must be positive\")\n",
    "            read(data)\n",
    "        except ValueError:\n",
    "            print(\"Not a number\")\n",
    "            read(data)\n",
    "        except EOFError:\n",
    "            print(data)\n",
    "            print(\"can't read the input\")\n",
    "            raise\n",
    "    else:\n",
    "        read(data)\n",
    "read(data)"
   ]
  },
  {
   "cell_type": "markdown",
   "metadata": {},
   "source": [
    "## 22) Write a short Python program that takes two arrays a and b of length n storing int values, and returns the dot product of a and b. That is, it returns an array c of length n such that c[i] = a[i]·b[i], for i = 0,...,n−1."
   ]
  },
  {
   "cell_type": "code",
   "execution_count": 282,
   "metadata": {},
   "outputs": [],
   "source": [
    "#22\n",
    "def dot(a,b):\n",
    "    return [a[i]*b[i] for i in range(len(a))]\n",
    "def dot2(a,b):\n",
    "    return [x*y for x,y in zip(a,b)]"
   ]
  },
  {
   "cell_type": "code",
   "execution_count": 283,
   "metadata": {},
   "outputs": [
    {
     "data": {
      "text/plain": [
       "[4, 10, 18]"
      ]
     },
     "execution_count": 283,
     "metadata": {},
     "output_type": "execute_result"
    }
   ],
   "source": [
    "a=[1,2,3]\n",
    "b=[4,5,6]\n",
    "dot(a,b)"
   ]
  },
  {
   "cell_type": "code",
   "execution_count": 284,
   "metadata": {},
   "outputs": [
    {
     "data": {
      "text/plain": [
       "[4, 10, 18]"
      ]
     },
     "execution_count": 284,
     "metadata": {},
     "output_type": "execute_result"
    }
   ],
   "source": [
    "dot2(a,b)"
   ]
  },
  {
   "cell_type": "markdown",
   "metadata": {},
   "source": [
    "## 23) Give an example of a Python code fragment that attempts to write an element to a list based on an index that may be out of bounds. If that index is out of bounds, the program should catch the exception that results, and print the following error message:\n",
    "    “Don’t try buffer overflow attacks in Python!”"
   ]
  },
  {
   "cell_type": "code",
   "execution_count": 286,
   "metadata": {},
   "outputs": [
    {
     "name": "stdout",
     "output_type": "stream",
     "text": [
      "Enter a index to get a value form l: 2\n",
      "3\n"
     ]
    }
   ],
   "source": [
    "#23\n",
    "l=[1,2,3,4]\n",
    "try:\n",
    "    get=int(input(\"Enter a index to get a value form l: \"))\n",
    "    print(l[get])\n",
    "except IndexError as ex:\n",
    "    print(\"“Don’t try buffer overflow attacks in Python!\",ex)"
   ]
  },
  {
   "cell_type": "markdown",
   "metadata": {},
   "source": [
    "## 24) Write a short Python function that counts the number of vowels in a given character string."
   ]
  },
  {
   "cell_type": "code",
   "execution_count": 287,
   "metadata": {},
   "outputs": [
    {
     "name": "stdout",
     "output_type": "stream",
     "text": [
      "Enter a string: I love Python!\n",
      "The total vovels in the string are:  4\n"
     ]
    }
   ],
   "source": [
    "#24\n",
    "vov=list(\"aeiou\")\n",
    "string=input(\"Enter a string: \").lower()\n",
    "counter = 0\n",
    "for i in string:\n",
    "    counter = counter+1 if i in vov else counter\n",
    "print(\"The total vovels in the string are: \",counter)"
   ]
  },
  {
   "cell_type": "markdown",
   "metadata": {},
   "source": [
    "## 25) Write a short Python function that takes a string s, representing a sentence, and returns a copy of the string with all punctuation removed. For example, if given the string \"Let's try, Mike.\", this function would return \"Lets try Mike\"."
   ]
  },
  {
   "cell_type": "code",
   "execution_count": 288,
   "metadata": {},
   "outputs": [],
   "source": [
    "#25\n",
    "import string as s\n",
    "def removePunctuation(string):\n",
    "    res=\"\"\n",
    "    punctuation=list(s.punctuation)\n",
    "    for i in range(len(string)):\n",
    "        if string[i] not in punctuation:\n",
    "            res+=string[i]\n",
    "    return res\n",
    "def removePunctuation2(string):\n",
    "    punctuation=list(s.punctuation)\n",
    "    for i in punctuation:\n",
    "        string=string.replace(i,\"\")\n",
    "    return string\n",
    "    "
   ]
  },
  {
   "cell_type": "code",
   "execution_count": 289,
   "metadata": {},
   "outputs": [
    {
     "data": {
      "text/plain": [
       "'Lets try Mike'"
      ]
     },
     "execution_count": 289,
     "metadata": {},
     "output_type": "execute_result"
    }
   ],
   "source": [
    "removePunctuation(\"Let's try, Mike.\")"
   ]
  },
  {
   "cell_type": "code",
   "execution_count": 290,
   "metadata": {},
   "outputs": [
    {
     "data": {
      "text/plain": [
       "'Lets try Mike'"
      ]
     },
     "execution_count": 290,
     "metadata": {},
     "output_type": "execute_result"
    }
   ],
   "source": [
    "removePunctuation2(\"Let's try, Mike.\")"
   ]
  },
  {
   "cell_type": "markdown",
   "metadata": {},
   "source": [
    "## 26) Write a short program that takes as input three integers, a, b, and c, from the console and determines if they can be used in a correct arithmetic formula (in the given order), like “a+b = c,” “a = b−c,” or “a∗b = c.”"
   ]
  },
  {
   "cell_type": "code",
   "execution_count": 291,
   "metadata": {},
   "outputs": [],
   "source": [
    "#26\n",
    "import operator\n",
    "def check(a,b,c):\n",
    "    opList=[operator.add,operator.sub,operator.mul,operator.truediv]\n",
    "    res=[]\n",
    "    for op in opList:\n",
    "        if a==op(float(b),float(c)):\n",
    "            res.append(op.__name__)\n",
    "        if c==op(float(a),float(b)):\n",
    "            res.append(op.__name__)\n",
    "    return res"
   ]
  },
  {
   "cell_type": "code",
   "execution_count": 292,
   "metadata": {},
   "outputs": [
    {
     "data": {
      "text/plain": [
       "['add', 'mul']"
      ]
     },
     "execution_count": 292,
     "metadata": {},
     "output_type": "execute_result"
    }
   ],
   "source": [
    "check(2,2,4)"
   ]
  },
  {
   "cell_type": "markdown",
   "metadata": {},
   "source": [
    "## 27) In Section 1.8, we provided three different implementations of a generator that computes factors of a given integer. The third of those implementations, from page 41, was the most efficient, but we noted that it did not yield the factors in increasing order. Modify the generator so that it reports factors in increasing order, while maintaining its general performance advantages."
   ]
  },
  {
   "cell_type": "code",
   "execution_count": 293,
   "metadata": {},
   "outputs": [],
   "source": [
    "#27\n",
    "def factors(n):\n",
    "    k=1\n",
    "    stack=[]\n",
    "    while k*k<n:\n",
    "        if n%k==0:\n",
    "            yield k\n",
    "            stack.append(n//k)\n",
    "            \n",
    "        k+=1\n",
    "    if k*k==n:\n",
    "        yield k\n",
    "    while stack:\n",
    "        yield stack.pop()"
   ]
  },
  {
   "cell_type": "code",
   "execution_count": 294,
   "metadata": {},
   "outputs": [
    {
     "name": "stdout",
     "output_type": "stream",
     "text": [
      "1 2 4 5 10 20 25 50 100 "
     ]
    }
   ],
   "source": [
    "for i in factors(100):\n",
    "    print(i,end=\" \")"
   ]
  },
  {
   "cell_type": "markdown",
   "metadata": {},
   "source": [
    "## 28) \n",
    "<p align=\"center\">\n",
    "<img src=\"https://github728.s3.ap-south-1.amazonaws.com/28.png\" width=\"600\">\n",
    "</p>"
   ]
  },
  {
   "cell_type": "code",
   "execution_count": 295,
   "metadata": {},
   "outputs": [],
   "source": [
    "#28\n",
    "def norm(data,p=2):\n",
    "    return pow(sum([pow(i,p) for i in data]),1/p)"
   ]
  },
  {
   "cell_type": "code",
   "execution_count": 296,
   "metadata": {},
   "outputs": [
    {
     "data": {
      "text/plain": [
       "5.0"
      ]
     },
     "execution_count": 296,
     "metadata": {},
     "output_type": "execute_result"
    }
   ],
   "source": [
    "norm([4,3])"
   ]
  },
  {
   "cell_type": "code",
   "execution_count": 297,
   "metadata": {},
   "outputs": [
    {
     "data": {
      "text/plain": [
       "7.0"
      ]
     },
     "execution_count": 297,
     "metadata": {},
     "output_type": "execute_result"
    }
   ],
   "source": [
    "norm([4,3],1)"
   ]
  },
  {
   "cell_type": "markdown",
   "metadata": {},
   "source": [
    "## 29) Write a Python program that outputs all possible strings formed by using the characters c , a , t , d , o ,and g exactly once."
   ]
  },
  {
   "cell_type": "code",
   "execution_count": 298,
   "metadata": {},
   "outputs": [
    {
     "name": "stdout",
     "output_type": "stream",
     "text": [
      "catdog, catdgo, catodg, catogd, catgdo, catgod, cadtog, cadtgo, cadotg, cadogt, cadgto, cadgot, caotdg, caotgd, caodtg, caodgt, caogtd, caogdt, cagtdo, cagtod, cagdto, cagdot, cagotd, cagodt, ctadog, ctadgo, ctaodg, ctaogd, ctagdo, ctagod, ctdaog, ctdago, ctdoag, ctdoga, ctdgao, ctdgoa, ctoadg, ctoagd, ctodag, ctodga, ctogad, ctogda, ctgado, ctgaod, ctgdao, ctgdoa, ctgoad, ctgoda, cdatog, cdatgo, cdaotg, cdaogt, cdagto, cdagot, cdtaog, cdtago, cdtoag, cdtoga, cdtgao, cdtgoa, cdoatg, cdoagt, cdotag, cdotga, cdogat, cdogta, cdgato, cdgaot, cdgtao, cdgtoa, cdgoat, cdgota, coatdg, coatgd, coadtg, coadgt, coagtd, coagdt, cotadg, cotagd, cotdag, cotdga, cotgad, cotgda, codatg, codagt, codtag, codtga, codgat, codgta, cogatd, cogadt, cogtad, cogtda, cogdat, cogdta, cgatdo, cgatod, cgadto, cgadot, cgaotd, cgaodt, cgtado, cgtaod, cgtdao, cgtdoa, cgtoad, cgtoda, cgdato, cgdaot, cgdtao, cgdtoa, cgdoat, cgdota, cgoatd, cgoadt, cgotad, cgotda, cgodat, cgodta, actdog, actdgo, actodg, actogd, actgdo, actgod, acdtog, acdtgo, acdotg, acdogt, acdgto, acdgot, acotdg, acotgd, acodtg, acodgt, acogtd, acogdt, acgtdo, acgtod, acgdto, acgdot, acgotd, acgodt, atcdog, atcdgo, atcodg, atcogd, atcgdo, atcgod, atdcog, atdcgo, atdocg, atdogc, atdgco, atdgoc, atocdg, atocgd, atodcg, atodgc, atogcd, atogdc, atgcdo, atgcod, atgdco, atgdoc, atgocd, atgodc, adctog, adctgo, adcotg, adcogt, adcgto, adcgot, adtcog, adtcgo, adtocg, adtogc, adtgco, adtgoc, adoctg, adocgt, adotcg, adotgc, adogct, adogtc, adgcto, adgcot, adgtco, adgtoc, adgoct, adgotc, aoctdg, aoctgd, aocdtg, aocdgt, aocgtd, aocgdt, aotcdg, aotcgd, aotdcg, aotdgc, aotgcd, aotgdc, aodctg, aodcgt, aodtcg, aodtgc, aodgct, aodgtc, aogctd, aogcdt, aogtcd, aogtdc, aogdct, aogdtc, agctdo, agctod, agcdto, agcdot, agcotd, agcodt, agtcdo, agtcod, agtdco, agtdoc, agtocd, agtodc, agdcto, agdcot, agdtco, agdtoc, agdoct, agdotc, agoctd, agocdt, agotcd, agotdc, agodct, agodtc, tcadog, tcadgo, tcaodg, tcaogd, tcagdo, tcagod, tcdaog, tcdago, tcdoag, tcdoga, tcdgao, tcdgoa, tcoadg, tcoagd, tcodag, tcodga, tcogad, tcogda, tcgado, tcgaod, tcgdao, tcgdoa, tcgoad, tcgoda, tacdog, tacdgo, tacodg, tacogd, tacgdo, tacgod, tadcog, tadcgo, tadocg, tadogc, tadgco, tadgoc, taocdg, taocgd, taodcg, taodgc, taogcd, taogdc, tagcdo, tagcod, tagdco, tagdoc, tagocd, tagodc, tdcaog, tdcago, tdcoag, tdcoga, tdcgao, tdcgoa, tdacog, tdacgo, tdaocg, tdaogc, tdagco, tdagoc, tdocag, tdocga, tdoacg, tdoagc, tdogca, tdogac, tdgcao, tdgcoa, tdgaco, tdgaoc, tdgoca, tdgoac, tocadg, tocagd, tocdag, tocdga, tocgad, tocgda, toacdg, toacgd, toadcg, toadgc, toagcd, toagdc, todcag, todcga, todacg, todagc, todgca, todgac, togcad, togcda, togacd, togadc, togdca, togdac, tgcado, tgcaod, tgcdao, tgcdoa, tgcoad, tgcoda, tgacdo, tgacod, tgadco, tgadoc, tgaocd, tgaodc, tgdcao, tgdcoa, tgdaco, tgdaoc, tgdoca, tgdoac, tgocad, tgocda, tgoacd, tgoadc, tgodca, tgodac, dcatog, dcatgo, dcaotg, dcaogt, dcagto, dcagot, dctaog, dctago, dctoag, dctoga, dctgao, dctgoa, dcoatg, dcoagt, dcotag, dcotga, dcogat, dcogta, dcgato, dcgaot, dcgtao, dcgtoa, dcgoat, dcgota, dactog, dactgo, dacotg, dacogt, dacgto, dacgot, datcog, datcgo, datocg, datogc, datgco, datgoc, daoctg, daocgt, daotcg, daotgc, daogct, daogtc, dagcto, dagcot, dagtco, dagtoc, dagoct, dagotc, dtcaog, dtcago, dtcoag, dtcoga, dtcgao, dtcgoa, dtacog, dtacgo, dtaocg, dtaogc, dtagco, dtagoc, dtocag, dtocga, dtoacg, dtoagc, dtogca, dtogac, dtgcao, dtgcoa, dtgaco, dtgaoc, dtgoca, dtgoac, docatg, docagt, doctag, doctga, docgat, docgta, doactg, doacgt, doatcg, doatgc, doagct, doagtc, dotcag, dotcga, dotacg, dotagc, dotgca, dotgac, dogcat, dogcta, dogact, dogatc, dogtca, dogtac, dgcato, dgcaot, dgctao, dgctoa, dgcoat, dgcota, dgacto, dgacot, dgatco, dgatoc, dgaoct, dgaotc, dgtcao, dgtcoa, dgtaco, dgtaoc, dgtoca, dgtoac, dgocat, dgocta, dgoact, dgoatc, dgotca, dgotac, ocatdg, ocatgd, ocadtg, ocadgt, ocagtd, ocagdt, octadg, octagd, octdag, octdga, octgad, octgda, ocdatg, ocdagt, ocdtag, ocdtga, ocdgat, ocdgta, ocgatd, ocgadt, ocgtad, ocgtda, ocgdat, ocgdta, oactdg, oactgd, oacdtg, oacdgt, oacgtd, oacgdt, oatcdg, oatcgd, oatdcg, oatdgc, oatgcd, oatgdc, oadctg, oadcgt, oadtcg, oadtgc, oadgct, oadgtc, oagctd, oagcdt, oagtcd, oagtdc, oagdct, oagdtc, otcadg, otcagd, otcdag, otcdga, otcgad, otcgda, otacdg, otacgd, otadcg, otadgc, otagcd, otagdc, otdcag, otdcga, otdacg, otdagc, otdgca, otdgac, otgcad, otgcda, otgacd, otgadc, otgdca, otgdac, odcatg, odcagt, odctag, odctga, odcgat, odcgta, odactg, odacgt, odatcg, odatgc, odagct, odagtc, odtcag, odtcga, odtacg, odtagc, odtgca, odtgac, odgcat, odgcta, odgact, odgatc, odgtca, odgtac, ogcatd, ogcadt, ogctad, ogctda, ogcdat, ogcdta, ogactd, ogacdt, ogatcd, ogatdc, ogadct, ogadtc, ogtcad, ogtcda, ogtacd, ogtadc, ogtdca, ogtdac, ogdcat, ogdcta, ogdact, ogdatc, ogdtca, ogdtac, gcatdo, gcatod, gcadto, gcadot, gcaotd, gcaodt, gctado, gctaod, gctdao, gctdoa, gctoad, gctoda, gcdato, gcdaot, gcdtao, gcdtoa, gcdoat, gcdota, gcoatd, gcoadt, gcotad, gcotda, gcodat, gcodta, gactdo, gactod, gacdto, gacdot, gacotd, gacodt, gatcdo, gatcod, gatdco, gatdoc, gatocd, gatodc, gadcto, gadcot, gadtco, gadtoc, gadoct, gadotc, gaoctd, gaocdt, gaotcd, gaotdc, gaodct, gaodtc, gtcado, gtcaod, gtcdao, gtcdoa, gtcoad, gtcoda, gtacdo, gtacod, gtadco, gtadoc, gtaocd, gtaodc, gtdcao, gtdcoa, gtdaco, gtdaoc, gtdoca, gtdoac, gtocad, gtocda, gtoacd, gtoadc, gtodca, gtodac, gdcato, gdcaot, gdctao, gdctoa, gdcoat, gdcota, gdacto, gdacot, gdatco, gdatoc, gdaoct, gdaotc, gdtcao, gdtcoa, gdtaco, gdtaoc, gdtoca, gdtoac, gdocat, gdocta, gdoact, gdoatc, gdotca, gdotac, gocatd, gocadt, goctad, goctda, gocdat, gocdta, goactd, goacdt, goatcd, goatdc, goadct, goadtc, gotcad, gotcda, gotacd, gotadc, gotdca, gotdac, godcat, godcta, godact, godatc, godtca, godtac, "
     ]
    }
   ],
   "source": [
    "#29\n",
    "char=list(\"catdog\")\n",
    "def permutation(data,string):\n",
    "    if len(data)==1:\n",
    "        print(\"\".join(list(map(str,string+data))),end=\", \")\n",
    "    else:\n",
    "        for i in range(len(data)):\n",
    "            subData=[data[j] for j in range(len(data)) if j!=i]\n",
    "            permutation(subData,string+[data[i]])\n",
    "\n",
    "permutation(char,[])"
   ]
  },
  {
   "cell_type": "code",
   "execution_count": 299,
   "metadata": {},
   "outputs": [
    {
     "name": "stdout",
     "output_type": "stream",
     "text": [
      "('c', 'a', 't', 'd', 'o', 'g') ('c', 'a', 't', 'd', 'g', 'o') ('c', 'a', 't', 'o', 'd', 'g') ('c', 'a', 't', 'o', 'g', 'd') ('c', 'a', 't', 'g', 'd', 'o') ('c', 'a', 't', 'g', 'o', 'd') ('c', 'a', 'd', 't', 'o', 'g') ('c', 'a', 'd', 't', 'g', 'o') ('c', 'a', 'd', 'o', 't', 'g') ('c', 'a', 'd', 'o', 'g', 't') ('c', 'a', 'd', 'g', 't', 'o') ('c', 'a', 'd', 'g', 'o', 't') ('c', 'a', 'o', 't', 'd', 'g') ('c', 'a', 'o', 't', 'g', 'd') ('c', 'a', 'o', 'd', 't', 'g') ('c', 'a', 'o', 'd', 'g', 't') ('c', 'a', 'o', 'g', 't', 'd') ('c', 'a', 'o', 'g', 'd', 't') ('c', 'a', 'g', 't', 'd', 'o') ('c', 'a', 'g', 't', 'o', 'd') ('c', 'a', 'g', 'd', 't', 'o') ('c', 'a', 'g', 'd', 'o', 't') ('c', 'a', 'g', 'o', 't', 'd') ('c', 'a', 'g', 'o', 'd', 't') ('c', 't', 'a', 'd', 'o', 'g') ('c', 't', 'a', 'd', 'g', 'o') ('c', 't', 'a', 'o', 'd', 'g') ('c', 't', 'a', 'o', 'g', 'd') ('c', 't', 'a', 'g', 'd', 'o') ('c', 't', 'a', 'g', 'o', 'd') ('c', 't', 'd', 'a', 'o', 'g') ('c', 't', 'd', 'a', 'g', 'o') ('c', 't', 'd', 'o', 'a', 'g') ('c', 't', 'd', 'o', 'g', 'a') ('c', 't', 'd', 'g', 'a', 'o') ('c', 't', 'd', 'g', 'o', 'a') ('c', 't', 'o', 'a', 'd', 'g') ('c', 't', 'o', 'a', 'g', 'd') ('c', 't', 'o', 'd', 'a', 'g') ('c', 't', 'o', 'd', 'g', 'a') ('c', 't', 'o', 'g', 'a', 'd') ('c', 't', 'o', 'g', 'd', 'a') ('c', 't', 'g', 'a', 'd', 'o') ('c', 't', 'g', 'a', 'o', 'd') ('c', 't', 'g', 'd', 'a', 'o') ('c', 't', 'g', 'd', 'o', 'a') ('c', 't', 'g', 'o', 'a', 'd') ('c', 't', 'g', 'o', 'd', 'a') ('c', 'd', 'a', 't', 'o', 'g') ('c', 'd', 'a', 't', 'g', 'o') ('c', 'd', 'a', 'o', 't', 'g') ('c', 'd', 'a', 'o', 'g', 't') ('c', 'd', 'a', 'g', 't', 'o') ('c', 'd', 'a', 'g', 'o', 't') ('c', 'd', 't', 'a', 'o', 'g') ('c', 'd', 't', 'a', 'g', 'o') ('c', 'd', 't', 'o', 'a', 'g') ('c', 'd', 't', 'o', 'g', 'a') ('c', 'd', 't', 'g', 'a', 'o') ('c', 'd', 't', 'g', 'o', 'a') ('c', 'd', 'o', 'a', 't', 'g') ('c', 'd', 'o', 'a', 'g', 't') ('c', 'd', 'o', 't', 'a', 'g') ('c', 'd', 'o', 't', 'g', 'a') ('c', 'd', 'o', 'g', 'a', 't') ('c', 'd', 'o', 'g', 't', 'a') ('c', 'd', 'g', 'a', 't', 'o') ('c', 'd', 'g', 'a', 'o', 't') ('c', 'd', 'g', 't', 'a', 'o') ('c', 'd', 'g', 't', 'o', 'a') ('c', 'd', 'g', 'o', 'a', 't') ('c', 'd', 'g', 'o', 't', 'a') ('c', 'o', 'a', 't', 'd', 'g') ('c', 'o', 'a', 't', 'g', 'd') ('c', 'o', 'a', 'd', 't', 'g') ('c', 'o', 'a', 'd', 'g', 't') ('c', 'o', 'a', 'g', 't', 'd') ('c', 'o', 'a', 'g', 'd', 't') ('c', 'o', 't', 'a', 'd', 'g') ('c', 'o', 't', 'a', 'g', 'd') ('c', 'o', 't', 'd', 'a', 'g') ('c', 'o', 't', 'd', 'g', 'a') ('c', 'o', 't', 'g', 'a', 'd') ('c', 'o', 't', 'g', 'd', 'a') ('c', 'o', 'd', 'a', 't', 'g') ('c', 'o', 'd', 'a', 'g', 't') ('c', 'o', 'd', 't', 'a', 'g') ('c', 'o', 'd', 't', 'g', 'a') ('c', 'o', 'd', 'g', 'a', 't') ('c', 'o', 'd', 'g', 't', 'a') ('c', 'o', 'g', 'a', 't', 'd') ('c', 'o', 'g', 'a', 'd', 't') ('c', 'o', 'g', 't', 'a', 'd') ('c', 'o', 'g', 't', 'd', 'a') ('c', 'o', 'g', 'd', 'a', 't') ('c', 'o', 'g', 'd', 't', 'a') ('c', 'g', 'a', 't', 'd', 'o') ('c', 'g', 'a', 't', 'o', 'd') ('c', 'g', 'a', 'd', 't', 'o') ('c', 'g', 'a', 'd', 'o', 't') ('c', 'g', 'a', 'o', 't', 'd') ('c', 'g', 'a', 'o', 'd', 't') ('c', 'g', 't', 'a', 'd', 'o') ('c', 'g', 't', 'a', 'o', 'd') ('c', 'g', 't', 'd', 'a', 'o') ('c', 'g', 't', 'd', 'o', 'a') ('c', 'g', 't', 'o', 'a', 'd') ('c', 'g', 't', 'o', 'd', 'a') ('c', 'g', 'd', 'a', 't', 'o') ('c', 'g', 'd', 'a', 'o', 't') ('c', 'g', 'd', 't', 'a', 'o') ('c', 'g', 'd', 't', 'o', 'a') ('c', 'g', 'd', 'o', 'a', 't') ('c', 'g', 'd', 'o', 't', 'a') ('c', 'g', 'o', 'a', 't', 'd') ('c', 'g', 'o', 'a', 'd', 't') ('c', 'g', 'o', 't', 'a', 'd') ('c', 'g', 'o', 't', 'd', 'a') ('c', 'g', 'o', 'd', 'a', 't') ('c', 'g', 'o', 'd', 't', 'a') ('a', 'c', 't', 'd', 'o', 'g') ('a', 'c', 't', 'd', 'g', 'o') ('a', 'c', 't', 'o', 'd', 'g') ('a', 'c', 't', 'o', 'g', 'd') ('a', 'c', 't', 'g', 'd', 'o') ('a', 'c', 't', 'g', 'o', 'd') ('a', 'c', 'd', 't', 'o', 'g') ('a', 'c', 'd', 't', 'g', 'o') ('a', 'c', 'd', 'o', 't', 'g') ('a', 'c', 'd', 'o', 'g', 't') ('a', 'c', 'd', 'g', 't', 'o') ('a', 'c', 'd', 'g', 'o', 't') ('a', 'c', 'o', 't', 'd', 'g') ('a', 'c', 'o', 't', 'g', 'd') ('a', 'c', 'o', 'd', 't', 'g') ('a', 'c', 'o', 'd', 'g', 't') ('a', 'c', 'o', 'g', 't', 'd') ('a', 'c', 'o', 'g', 'd', 't') ('a', 'c', 'g', 't', 'd', 'o') ('a', 'c', 'g', 't', 'o', 'd') ('a', 'c', 'g', 'd', 't', 'o') ('a', 'c', 'g', 'd', 'o', 't') ('a', 'c', 'g', 'o', 't', 'd') ('a', 'c', 'g', 'o', 'd', 't') ('a', 't', 'c', 'd', 'o', 'g') ('a', 't', 'c', 'd', 'g', 'o') ('a', 't', 'c', 'o', 'd', 'g') ('a', 't', 'c', 'o', 'g', 'd') ('a', 't', 'c', 'g', 'd', 'o') ('a', 't', 'c', 'g', 'o', 'd') ('a', 't', 'd', 'c', 'o', 'g') ('a', 't', 'd', 'c', 'g', 'o') ('a', 't', 'd', 'o', 'c', 'g') ('a', 't', 'd', 'o', 'g', 'c') ('a', 't', 'd', 'g', 'c', 'o') ('a', 't', 'd', 'g', 'o', 'c') ('a', 't', 'o', 'c', 'd', 'g') ('a', 't', 'o', 'c', 'g', 'd') ('a', 't', 'o', 'd', 'c', 'g') ('a', 't', 'o', 'd', 'g', 'c') ('a', 't', 'o', 'g', 'c', 'd') ('a', 't', 'o', 'g', 'd', 'c') ('a', 't', 'g', 'c', 'd', 'o') ('a', 't', 'g', 'c', 'o', 'd') ('a', 't', 'g', 'd', 'c', 'o') ('a', 't', 'g', 'd', 'o', 'c') ('a', 't', 'g', 'o', 'c', 'd') ('a', 't', 'g', 'o', 'd', 'c') ('a', 'd', 'c', 't', 'o', 'g') ('a', 'd', 'c', 't', 'g', 'o') ('a', 'd', 'c', 'o', 't', 'g') ('a', 'd', 'c', 'o', 'g', 't') ('a', 'd', 'c', 'g', 't', 'o') ('a', 'd', 'c', 'g', 'o', 't') ('a', 'd', 't', 'c', 'o', 'g') ('a', 'd', 't', 'c', 'g', 'o') ('a', 'd', 't', 'o', 'c', 'g') ('a', 'd', 't', 'o', 'g', 'c') ('a', 'd', 't', 'g', 'c', 'o') ('a', 'd', 't', 'g', 'o', 'c') ('a', 'd', 'o', 'c', 't', 'g') ('a', 'd', 'o', 'c', 'g', 't') ('a', 'd', 'o', 't', 'c', 'g') ('a', 'd', 'o', 't', 'g', 'c') ('a', 'd', 'o', 'g', 'c', 't') ('a', 'd', 'o', 'g', 't', 'c') ('a', 'd', 'g', 'c', 't', 'o') ('a', 'd', 'g', 'c', 'o', 't') ('a', 'd', 'g', 't', 'c', 'o') ('a', 'd', 'g', 't', 'o', 'c') ('a', 'd', 'g', 'o', 'c', 't') ('a', 'd', 'g', 'o', 't', 'c') ('a', 'o', 'c', 't', 'd', 'g') ('a', 'o', 'c', 't', 'g', 'd') ('a', 'o', 'c', 'd', 't', 'g') ('a', 'o', 'c', 'd', 'g', 't') ('a', 'o', 'c', 'g', 't', 'd') ('a', 'o', 'c', 'g', 'd', 't') ('a', 'o', 't', 'c', 'd', 'g') ('a', 'o', 't', 'c', 'g', 'd') ('a', 'o', 't', 'd', 'c', 'g') ('a', 'o', 't', 'd', 'g', 'c') ('a', 'o', 't', 'g', 'c', 'd') ('a', 'o', 't', 'g', 'd', 'c') ('a', 'o', 'd', 'c', 't', 'g') ('a', 'o', 'd', 'c', 'g', 't') ('a', 'o', 'd', 't', 'c', 'g') ('a', 'o', 'd', 't', 'g', 'c') ('a', 'o', 'd', 'g', 'c', 't') ('a', 'o', 'd', 'g', 't', 'c') ('a', 'o', 'g', 'c', 't', 'd') ('a', 'o', 'g', 'c', 'd', 't') ('a', 'o', 'g', 't', 'c', 'd') ('a', 'o', 'g', 't', 'd', 'c') ('a', 'o', 'g', 'd', 'c', 't') ('a', 'o', 'g', 'd', 't', 'c') ('a', 'g', 'c', 't', 'd', 'o') ('a', 'g', 'c', 't', 'o', 'd') ('a', 'g', 'c', 'd', 't', 'o') ('a', 'g', 'c', 'd', 'o', 't') ('a', 'g', 'c', 'o', 't', 'd') ('a', 'g', 'c', 'o', 'd', 't') ('a', 'g', 't', 'c', 'd', 'o') ('a', 'g', 't', 'c', 'o', 'd') ('a', 'g', 't', 'd', 'c', 'o') ('a', 'g', 't', 'd', 'o', 'c') ('a', 'g', 't', 'o', 'c', 'd') ('a', 'g', 't', 'o', 'd', 'c') ('a', 'g', 'd', 'c', 't', 'o') ('a', 'g', 'd', 'c', 'o', 't') ('a', 'g', 'd', 't', 'c', 'o') ('a', 'g', 'd', 't', 'o', 'c') ('a', 'g', 'd', 'o', 'c', 't') ('a', 'g', 'd', 'o', 't', 'c') ('a', 'g', 'o', 'c', 't', 'd') ('a', 'g', 'o', 'c', 'd', 't') ('a', 'g', 'o', 't', 'c', 'd') ('a', 'g', 'o', 't', 'd', 'c') ('a', 'g', 'o', 'd', 'c', 't') ('a', 'g', 'o', 'd', 't', 'c') ('t', 'c', 'a', 'd', 'o', 'g') ('t', 'c', 'a', 'd', 'g', 'o') ('t', 'c', 'a', 'o', 'd', 'g') ('t', 'c', 'a', 'o', 'g', 'd') ('t', 'c', 'a', 'g', 'd', 'o') ('t', 'c', 'a', 'g', 'o', 'd') ('t', 'c', 'd', 'a', 'o', 'g') ('t', 'c', 'd', 'a', 'g', 'o') ('t', 'c', 'd', 'o', 'a', 'g') ('t', 'c', 'd', 'o', 'g', 'a') ('t', 'c', 'd', 'g', 'a', 'o') ('t', 'c', 'd', 'g', 'o', 'a') ('t', 'c', 'o', 'a', 'd', 'g') ('t', 'c', 'o', 'a', 'g', 'd') ('t', 'c', 'o', 'd', 'a', 'g') ('t', 'c', 'o', 'd', 'g', 'a') ('t', 'c', 'o', 'g', 'a', 'd') ('t', 'c', 'o', 'g', 'd', 'a') ('t', 'c', 'g', 'a', 'd', 'o') ('t', 'c', 'g', 'a', 'o', 'd') ('t', 'c', 'g', 'd', 'a', 'o') ('t', 'c', 'g', 'd', 'o', 'a') ('t', 'c', 'g', 'o', 'a', 'd') ('t', 'c', 'g', 'o', 'd', 'a') ('t', 'a', 'c', 'd', 'o', 'g') ('t', 'a', 'c', 'd', 'g', 'o') ('t', 'a', 'c', 'o', 'd', 'g') ('t', 'a', 'c', 'o', 'g', 'd') ('t', 'a', 'c', 'g', 'd', 'o') ('t', 'a', 'c', 'g', 'o', 'd') ('t', 'a', 'd', 'c', 'o', 'g') ('t', 'a', 'd', 'c', 'g', 'o') ('t', 'a', 'd', 'o', 'c', 'g') ('t', 'a', 'd', 'o', 'g', 'c') ('t', 'a', 'd', 'g', 'c', 'o') ('t', 'a', 'd', 'g', 'o', 'c') ('t', 'a', 'o', 'c', 'd', 'g') ('t', 'a', 'o', 'c', 'g', 'd') ('t', 'a', 'o', 'd', 'c', 'g') ('t', 'a', 'o', 'd', 'g', 'c') ('t', 'a', 'o', 'g', 'c', 'd') ('t', 'a', 'o', 'g', 'd', 'c') ('t', 'a', 'g', 'c', 'd', 'o') ('t', 'a', 'g', 'c', 'o', 'd') ('t', 'a', 'g', 'd', 'c', 'o') ('t', 'a', 'g', 'd', 'o', 'c') ('t', 'a', 'g', 'o', 'c', 'd') ('t', 'a', 'g', 'o', 'd', 'c') ('t', 'd', 'c', 'a', 'o', 'g') ('t', 'd', 'c', 'a', 'g', 'o') ('t', 'd', 'c', 'o', 'a', 'g') ('t', 'd', 'c', 'o', 'g', 'a') ('t', 'd', 'c', 'g', 'a', 'o') ('t', 'd', 'c', 'g', 'o', 'a') ('t', 'd', 'a', 'c', 'o', 'g') ('t', 'd', 'a', 'c', 'g', 'o') ('t', 'd', 'a', 'o', 'c', 'g') ('t', 'd', 'a', 'o', 'g', 'c') ('t', 'd', 'a', 'g', 'c', 'o') ('t', 'd', 'a', 'g', 'o', 'c') ('t', 'd', 'o', 'c', 'a', 'g') ('t', 'd', 'o', 'c', 'g', 'a') ('t', 'd', 'o', 'a', 'c', 'g') ('t', 'd', 'o', 'a', 'g', 'c') ('t', 'd', 'o', 'g', 'c', 'a') ('t', 'd', 'o', 'g', 'a', 'c') ('t', 'd', 'g', 'c', 'a', 'o') ('t', 'd', 'g', 'c', 'o', 'a') ('t', 'd', 'g', 'a', 'c', 'o') ('t', 'd', 'g', 'a', 'o', 'c') ('t', 'd', 'g', 'o', 'c', 'a') ('t', 'd', 'g', 'o', 'a', 'c') ('t', 'o', 'c', 'a', 'd', 'g') ('t', 'o', 'c', 'a', 'g', 'd') ('t', 'o', 'c', 'd', 'a', 'g') ('t', 'o', 'c', 'd', 'g', 'a') ('t', 'o', 'c', 'g', 'a', 'd') ('t', 'o', 'c', 'g', 'd', 'a') ('t', 'o', 'a', 'c', 'd', 'g') ('t', 'o', 'a', 'c', 'g', 'd') ('t', 'o', 'a', 'd', 'c', 'g') ('t', 'o', 'a', 'd', 'g', 'c') ('t', 'o', 'a', 'g', 'c', 'd') ('t', 'o', 'a', 'g', 'd', 'c') ('t', 'o', 'd', 'c', 'a', 'g') ('t', 'o', 'd', 'c', 'g', 'a') ('t', 'o', 'd', 'a', 'c', 'g') ('t', 'o', 'd', 'a', 'g', 'c') ('t', 'o', 'd', 'g', 'c', 'a') ('t', 'o', 'd', 'g', 'a', 'c') ('t', 'o', 'g', 'c', 'a', 'd') ('t', 'o', 'g', 'c', 'd', 'a') ('t', 'o', 'g', 'a', 'c', 'd') ('t', 'o', 'g', 'a', 'd', 'c') ('t', 'o', 'g', 'd', 'c', 'a') ('t', 'o', 'g', 'd', 'a', 'c') ('t', 'g', 'c', 'a', 'd', 'o') ('t', 'g', 'c', 'a', 'o', 'd') ('t', 'g', 'c', 'd', 'a', 'o') ('t', 'g', 'c', 'd', 'o', 'a') ('t', 'g', 'c', 'o', 'a', 'd') ('t', 'g', 'c', 'o', 'd', 'a') ('t', 'g', 'a', 'c', 'd', 'o') ('t', 'g', 'a', 'c', 'o', 'd') ('t', 'g', 'a', 'd', 'c', 'o') ('t', 'g', 'a', 'd', 'o', 'c') ('t', 'g', 'a', 'o', 'c', 'd') ('t', 'g', 'a', 'o', 'd', 'c') ('t', 'g', 'd', 'c', 'a', 'o') ('t', 'g', 'd', 'c', 'o', 'a') ('t', 'g', 'd', 'a', 'c', 'o') ('t', 'g', 'd', 'a', 'o', 'c') ('t', 'g', 'd', 'o', 'c', 'a') ('t', 'g', 'd', 'o', 'a', 'c') ('t', 'g', 'o', 'c', 'a', 'd') ('t', 'g', 'o', 'c', 'd', 'a') ('t', 'g', 'o', 'a', 'c', 'd') ('t', 'g', 'o', 'a', 'd', 'c') ('t', 'g', 'o', 'd', 'c', 'a') ('t', 'g', 'o', 'd', 'a', 'c') ('d', 'c', 'a', 't', 'o', 'g') ('d', 'c', 'a', 't', 'g', 'o') ('d', 'c', 'a', 'o', 't', 'g') ('d', 'c', 'a', 'o', 'g', 't') ('d', 'c', 'a', 'g', 't', 'o') ('d', 'c', 'a', 'g', 'o', 't') ('d', 'c', 't', 'a', 'o', 'g') ('d', 'c', 't', 'a', 'g', 'o') ('d', 'c', 't', 'o', 'a', 'g') ('d', 'c', 't', 'o', 'g', 'a') ('d', 'c', 't', 'g', 'a', 'o') ('d', 'c', 't', 'g', 'o', 'a') ('d', 'c', 'o', 'a', 't', 'g') ('d', 'c', 'o', 'a', 'g', 't') ('d', 'c', 'o', 't', 'a', 'g') ('d', 'c', 'o', 't', 'g', 'a') ('d', 'c', 'o', 'g', 'a', 't') ('d', 'c', 'o', 'g', 't', 'a') ('d', 'c', 'g', 'a', 't', 'o') ('d', 'c', 'g', 'a', 'o', 't') ('d', 'c', 'g', 't', 'a', 'o') ('d', 'c', 'g', 't', 'o', 'a') ('d', 'c', 'g', 'o', 'a', 't') ('d', 'c', 'g', 'o', 't', 'a') ('d', 'a', 'c', 't', 'o', 'g') ('d', 'a', 'c', 't', 'g', 'o') ('d', 'a', 'c', 'o', 't', 'g') ('d', 'a', 'c', 'o', 'g', 't') ('d', 'a', 'c', 'g', 't', 'o') ('d', 'a', 'c', 'g', 'o', 't') ('d', 'a', 't', 'c', 'o', 'g') ('d', 'a', 't', 'c', 'g', 'o') ('d', 'a', 't', 'o', 'c', 'g') ('d', 'a', 't', 'o', 'g', 'c') ('d', 'a', 't', 'g', 'c', 'o') ('d', 'a', 't', 'g', 'o', 'c') ('d', 'a', 'o', 'c', 't', 'g') ('d', 'a', 'o', 'c', 'g', 't') ('d', 'a', 'o', 't', 'c', 'g') ('d', 'a', 'o', 't', 'g', 'c') ('d', 'a', 'o', 'g', 'c', 't') ('d', 'a', 'o', 'g', 't', 'c') ('d', 'a', 'g', 'c', 't', 'o') ('d', 'a', 'g', 'c', 'o', 't') ('d', 'a', 'g', 't', 'c', 'o') ('d', 'a', 'g', 't', 'o', 'c') ('d', 'a', 'g', 'o', 'c', 't') ('d', 'a', 'g', 'o', 't', 'c') ('d', 't', 'c', 'a', 'o', 'g') ('d', 't', 'c', 'a', 'g', 'o') ('d', 't', 'c', 'o', 'a', 'g') ('d', 't', 'c', 'o', 'g', 'a') ('d', 't', 'c', 'g', 'a', 'o') ('d', 't', 'c', 'g', 'o', 'a') ('d', 't', 'a', 'c', 'o', 'g') ('d', 't', 'a', 'c', 'g', 'o') ('d', 't', 'a', 'o', 'c', 'g') ('d', 't', 'a', 'o', 'g', 'c') ('d', 't', 'a', 'g', 'c', 'o') ('d', 't', 'a', 'g', 'o', 'c') ('d', 't', 'o', 'c', 'a', 'g') ('d', 't', 'o', 'c', 'g', 'a') ('d', 't', 'o', 'a', 'c', 'g') ('d', 't', 'o', 'a', 'g', 'c') ('d', 't', 'o', 'g', 'c', 'a') ('d', 't', 'o', 'g', 'a', 'c') ('d', 't', 'g', 'c', 'a', 'o') ('d', 't', 'g', 'c', 'o', 'a') ('d', 't', 'g', 'a', 'c', 'o') ('d', 't', 'g', 'a', 'o', 'c') ('d', 't', 'g', 'o', 'c', 'a') ('d', 't', 'g', 'o', 'a', 'c') ('d', 'o', 'c', 'a', 't', 'g') ('d', 'o', 'c', 'a', 'g', 't') ('d', 'o', 'c', 't', 'a', 'g') ('d', 'o', 'c', 't', 'g', 'a') ('d', 'o', 'c', 'g', 'a', 't') ('d', 'o', 'c', 'g', 't', 'a') ('d', 'o', 'a', 'c', 't', 'g') ('d', 'o', 'a', 'c', 'g', 't') ('d', 'o', 'a', 't', 'c', 'g') ('d', 'o', 'a', 't', 'g', 'c') ('d', 'o', 'a', 'g', 'c', 't') ('d', 'o', 'a', 'g', 't', 'c') ('d', 'o', 't', 'c', 'a', 'g') ('d', 'o', 't', 'c', 'g', 'a') ('d', 'o', 't', 'a', 'c', 'g') ('d', 'o', 't', 'a', 'g', 'c') ('d', 'o', 't', 'g', 'c', 'a') ('d', 'o', 't', 'g', 'a', 'c') ('d', 'o', 'g', 'c', 'a', 't') ('d', 'o', 'g', 'c', 't', 'a') ('d', 'o', 'g', 'a', 'c', 't') ('d', 'o', 'g', 'a', 't', 'c') ('d', 'o', 'g', 't', 'c', 'a') ('d', 'o', 'g', 't', 'a', 'c') ('d', 'g', 'c', 'a', 't', 'o') ('d', 'g', 'c', 'a', 'o', 't') ('d', 'g', 'c', 't', 'a', 'o') ('d', 'g', 'c', 't', 'o', 'a') ('d', 'g', 'c', 'o', 'a', 't') ('d', 'g', 'c', 'o', 't', 'a') ('d', 'g', 'a', 'c', 't', 'o') ('d', 'g', 'a', 'c', 'o', 't') ('d', 'g', 'a', 't', 'c', 'o') ('d', 'g', 'a', 't', 'o', 'c') ('d', 'g', 'a', 'o', 'c', 't') ('d', 'g', 'a', 'o', 't', 'c') ('d', 'g', 't', 'c', 'a', 'o') ('d', 'g', 't', 'c', 'o', 'a') ('d', 'g', 't', 'a', 'c', 'o') ('d', 'g', 't', 'a', 'o', 'c') ('d', 'g', 't', 'o', 'c', 'a') ('d', 'g', 't', 'o', 'a', 'c') ('d', 'g', 'o', 'c', 'a', 't') ('d', 'g', 'o', 'c', 't', 'a') ('d', 'g', 'o', 'a', 'c', 't') ('d', 'g', 'o', 'a', 't', 'c') ('d', 'g', 'o', 't', 'c', 'a') ('d', 'g', 'o', 't', 'a', 'c') ('o', 'c', 'a', 't', 'd', 'g') ('o', 'c', 'a', 't', 'g', 'd') ('o', 'c', 'a', 'd', 't', 'g') ('o', 'c', 'a', 'd', 'g', 't') ('o', 'c', 'a', 'g', 't', 'd') ('o', 'c', 'a', 'g', 'd', 't') ('o', 'c', 't', 'a', 'd', 'g') ('o', 'c', 't', 'a', 'g', 'd') ('o', 'c', 't', 'd', 'a', 'g') ('o', 'c', 't', 'd', 'g', 'a') ('o', 'c', 't', 'g', 'a', 'd') ('o', 'c', 't', 'g', 'd', 'a') ('o', 'c', 'd', 'a', 't', 'g') ('o', 'c', 'd', 'a', 'g', 't') ('o', 'c', 'd', 't', 'a', 'g') ('o', 'c', 'd', 't', 'g', 'a') ('o', 'c', 'd', 'g', 'a', 't') ('o', 'c', 'd', 'g', 't', 'a') ('o', 'c', 'g', 'a', 't', 'd') ('o', 'c', 'g', 'a', 'd', 't') ('o', 'c', 'g', 't', 'a', 'd') ('o', 'c', 'g', 't', 'd', 'a') ('o', 'c', 'g', 'd', 'a', 't') ('o', 'c', 'g', 'd', 't', 'a') ('o', 'a', 'c', 't', 'd', 'g') ('o', 'a', 'c', 't', 'g', 'd') ('o', 'a', 'c', 'd', 't', 'g') ('o', 'a', 'c', 'd', 'g', 't') ('o', 'a', 'c', 'g', 't', 'd') ('o', 'a', 'c', 'g', 'd', 't') ('o', 'a', 't', 'c', 'd', 'g') ('o', 'a', 't', 'c', 'g', 'd') ('o', 'a', 't', 'd', 'c', 'g') ('o', 'a', 't', 'd', 'g', 'c') ('o', 'a', 't', 'g', 'c', 'd') ('o', 'a', 't', 'g', 'd', 'c') ('o', 'a', 'd', 'c', 't', 'g') ('o', 'a', 'd', 'c', 'g', 't') ('o', 'a', 'd', 't', 'c', 'g') ('o', 'a', 'd', 't', 'g', 'c') ('o', 'a', 'd', 'g', 'c', 't') ('o', 'a', 'd', 'g', 't', 'c') ('o', 'a', 'g', 'c', 't', 'd') ('o', 'a', 'g', 'c', 'd', 't') ('o', 'a', 'g', 't', 'c', 'd') ('o', 'a', 'g', 't', 'd', 'c') ('o', 'a', 'g', 'd', 'c', 't') ('o', 'a', 'g', 'd', 't', 'c') ('o', 't', 'c', 'a', 'd', 'g') ('o', 't', 'c', 'a', 'g', 'd') ('o', 't', 'c', 'd', 'a', 'g') ('o', 't', 'c', 'd', 'g', 'a') ('o', 't', 'c', 'g', 'a', 'd') ('o', 't', 'c', 'g', 'd', 'a') ('o', 't', 'a', 'c', 'd', 'g') ('o', 't', 'a', 'c', 'g', 'd') ('o', 't', 'a', 'd', 'c', 'g') ('o', 't', 'a', 'd', 'g', 'c') ('o', 't', 'a', 'g', 'c', 'd') ('o', 't', 'a', 'g', 'd', 'c') ('o', 't', 'd', 'c', 'a', 'g') ('o', 't', 'd', 'c', 'g', 'a') ('o', 't', 'd', 'a', 'c', 'g') ('o', 't', 'd', 'a', 'g', 'c') ('o', 't', 'd', 'g', 'c', 'a') ('o', 't', 'd', 'g', 'a', 'c') ('o', 't', 'g', 'c', 'a', 'd') ('o', 't', 'g', 'c', 'd', 'a') ('o', 't', 'g', 'a', 'c', 'd') ('o', 't', 'g', 'a', 'd', 'c') ('o', 't', 'g', 'd', 'c', 'a') ('o', 't', 'g', 'd', 'a', 'c') ('o', 'd', 'c', 'a', 't', 'g') ('o', 'd', 'c', 'a', 'g', 't') ('o', 'd', 'c', 't', 'a', 'g') ('o', 'd', 'c', 't', 'g', 'a') ('o', 'd', 'c', 'g', 'a', 't') ('o', 'd', 'c', 'g', 't', 'a') ('o', 'd', 'a', 'c', 't', 'g') ('o', 'd', 'a', 'c', 'g', 't') ('o', 'd', 'a', 't', 'c', 'g') ('o', 'd', 'a', 't', 'g', 'c') ('o', 'd', 'a', 'g', 'c', 't') ('o', 'd', 'a', 'g', 't', 'c') ('o', 'd', 't', 'c', 'a', 'g') ('o', 'd', 't', 'c', 'g', 'a') ('o', 'd', 't', 'a', 'c', 'g') ('o', 'd', 't', 'a', 'g', 'c') ('o', 'd', 't', 'g', 'c', 'a') ('o', 'd', 't', 'g', 'a', 'c') ('o', 'd', 'g', 'c', 'a', 't') ('o', 'd', 'g', 'c', 't', 'a') ('o', 'd', 'g', 'a', 'c', 't') ('o', 'd', 'g', 'a', 't', 'c') ('o', 'd', 'g', 't', 'c', 'a') ('o', 'd', 'g', 't', 'a', 'c') ('o', 'g', 'c', 'a', 't', 'd') ('o', 'g', 'c', 'a', 'd', 't') ('o', 'g', 'c', 't', 'a', 'd') ('o', 'g', 'c', 't', 'd', 'a') ('o', 'g', 'c', 'd', 'a', 't') ('o', 'g', 'c', 'd', 't', 'a') ('o', 'g', 'a', 'c', 't', 'd') ('o', 'g', 'a', 'c', 'd', 't') ('o', 'g', 'a', 't', 'c', 'd') ('o', 'g', 'a', 't', 'd', 'c') ('o', 'g', 'a', 'd', 'c', 't') ('o', 'g', 'a', 'd', 't', 'c') ('o', 'g', 't', 'c', 'a', 'd') ('o', 'g', 't', 'c', 'd', 'a') ('o', 'g', 't', 'a', 'c', 'd') ('o', 'g', 't', 'a', 'd', 'c') ('o', 'g', 't', 'd', 'c', 'a') ('o', 'g', 't', 'd', 'a', 'c') ('o', 'g', 'd', 'c', 'a', 't') ('o', 'g', 'd', 'c', 't', 'a') ('o', 'g', 'd', 'a', 'c', 't') ('o', 'g', 'd', 'a', 't', 'c') ('o', 'g', 'd', 't', 'c', 'a') ('o', 'g', 'd', 't', 'a', 'c') ('g', 'c', 'a', 't', 'd', 'o') ('g', 'c', 'a', 't', 'o', 'd') ('g', 'c', 'a', 'd', 't', 'o') ('g', 'c', 'a', 'd', 'o', 't') ('g', 'c', 'a', 'o', 't', 'd') ('g', 'c', 'a', 'o', 'd', 't') ('g', 'c', 't', 'a', 'd', 'o') ('g', 'c', 't', 'a', 'o', 'd') ('g', 'c', 't', 'd', 'a', 'o') ('g', 'c', 't', 'd', 'o', 'a') ('g', 'c', 't', 'o', 'a', 'd') ('g', 'c', 't', 'o', 'd', 'a') ('g', 'c', 'd', 'a', 't', 'o') ('g', 'c', 'd', 'a', 'o', 't') ('g', 'c', 'd', 't', 'a', 'o') ('g', 'c', 'd', 't', 'o', 'a') ('g', 'c', 'd', 'o', 'a', 't') ('g', 'c', 'd', 'o', 't', 'a') ('g', 'c', 'o', 'a', 't', 'd') ('g', 'c', 'o', 'a', 'd', 't') ('g', 'c', 'o', 't', 'a', 'd') ('g', 'c', 'o', 't', 'd', 'a') ('g', 'c', 'o', 'd', 'a', 't') ('g', 'c', 'o', 'd', 't', 'a') ('g', 'a', 'c', 't', 'd', 'o') ('g', 'a', 'c', 't', 'o', 'd') ('g', 'a', 'c', 'd', 't', 'o') ('g', 'a', 'c', 'd', 'o', 't') ('g', 'a', 'c', 'o', 't', 'd') ('g', 'a', 'c', 'o', 'd', 't') ('g', 'a', 't', 'c', 'd', 'o') ('g', 'a', 't', 'c', 'o', 'd') ('g', 'a', 't', 'd', 'c', 'o') ('g', 'a', 't', 'd', 'o', 'c') ('g', 'a', 't', 'o', 'c', 'd') ('g', 'a', 't', 'o', 'd', 'c') ('g', 'a', 'd', 'c', 't', 'o') ('g', 'a', 'd', 'c', 'o', 't') ('g', 'a', 'd', 't', 'c', 'o') ('g', 'a', 'd', 't', 'o', 'c') ('g', 'a', 'd', 'o', 'c', 't') ('g', 'a', 'd', 'o', 't', 'c') ('g', 'a', 'o', 'c', 't', 'd') ('g', 'a', 'o', 'c', 'd', 't') ('g', 'a', 'o', 't', 'c', 'd') ('g', 'a', 'o', 't', 'd', 'c') ('g', 'a', 'o', 'd', 'c', 't') ('g', 'a', 'o', 'd', 't', 'c') ('g', 't', 'c', 'a', 'd', 'o') ('g', 't', 'c', 'a', 'o', 'd') ('g', 't', 'c', 'd', 'a', 'o') ('g', 't', 'c', 'd', 'o', 'a') ('g', 't', 'c', 'o', 'a', 'd') ('g', 't', 'c', 'o', 'd', 'a') ('g', 't', 'a', 'c', 'd', 'o') ('g', 't', 'a', 'c', 'o', 'd') ('g', 't', 'a', 'd', 'c', 'o') ('g', 't', 'a', 'd', 'o', 'c') ('g', 't', 'a', 'o', 'c', 'd') ('g', 't', 'a', 'o', 'd', 'c') ('g', 't', 'd', 'c', 'a', 'o') ('g', 't', 'd', 'c', 'o', 'a') ('g', 't', 'd', 'a', 'c', 'o') ('g', 't', 'd', 'a', 'o', 'c') ('g', 't', 'd', 'o', 'c', 'a') ('g', 't', 'd', 'o', 'a', 'c') ('g', 't', 'o', 'c', 'a', 'd') ('g', 't', 'o', 'c', 'd', 'a') ('g', 't', 'o', 'a', 'c', 'd') ('g', 't', 'o', 'a', 'd', 'c') ('g', 't', 'o', 'd', 'c', 'a') ('g', 't', 'o', 'd', 'a', 'c') ('g', 'd', 'c', 'a', 't', 'o') ('g', 'd', 'c', 'a', 'o', 't') ('g', 'd', 'c', 't', 'a', 'o') ('g', 'd', 'c', 't', 'o', 'a') ('g', 'd', 'c', 'o', 'a', 't') ('g', 'd', 'c', 'o', 't', 'a') ('g', 'd', 'a', 'c', 't', 'o') ('g', 'd', 'a', 'c', 'o', 't') ('g', 'd', 'a', 't', 'c', 'o') ('g', 'd', 'a', 't', 'o', 'c') ('g', 'd', 'a', 'o', 'c', 't') ('g', 'd', 'a', 'o', 't', 'c') ('g', 'd', 't', 'c', 'a', 'o') ('g', 'd', 't', 'c', 'o', 'a') ('g', 'd', 't', 'a', 'c', 'o') ('g', 'd', 't', 'a', 'o', 'c') ('g', 'd', 't', 'o', 'c', 'a') ('g', 'd', 't', 'o', 'a', 'c') ('g', 'd', 'o', 'c', 'a', 't') ('g', 'd', 'o', 'c', 't', 'a') ('g', 'd', 'o', 'a', 'c', 't') ('g', 'd', 'o', 'a', 't', 'c') ('g', 'd', 'o', 't', 'c', 'a') ('g', 'd', 'o', 't', 'a', 'c') ('g', 'o', 'c', 'a', 't', 'd') ('g', 'o', 'c', 'a', 'd', 't') ('g', 'o', 'c', 't', 'a', 'd') ('g', 'o', 'c', 't', 'd', 'a') ('g', 'o', 'c', 'd', 'a', 't') ('g', 'o', 'c', 'd', 't', 'a') ('g', 'o', 'a', 'c', 't', 'd') ('g', 'o', 'a', 'c', 'd', 't') ('g', 'o', 'a', 't', 'c', 'd') ('g', 'o', 'a', 't', 'd', 'c') ('g', 'o', 'a', 'd', 'c', 't') ('g', 'o', 'a', 'd', 't', 'c') ('g', 'o', 't', 'c', 'a', 'd') ('g', 'o', 't', 'c', 'd', 'a') ('g', 'o', 't', 'a', 'c', 'd') ('g', 'o', 't', 'a', 'd', 'c') ('g', 'o', 't', 'd', 'c', 'a') ('g', 'o', 't', 'd', 'a', 'c') ('g', 'o', 'd', 'c', 'a', 't') ('g', 'o', 'd', 'c', 't', 'a') ('g', 'o', 'd', 'a', 'c', 't') ('g', 'o', 'd', 'a', 't', 'c') ('g', 'o', 'd', 't', 'c', 'a') ('g', 'o', 'd', 't', 'a', 'c') "
     ]
    }
   ],
   "source": [
    "import itertools\n",
    "for i in itertools.permutations(char):\n",
    "    print(i,end=\" \")"
   ]
  },
  {
   "cell_type": "markdown",
   "metadata": {},
   "source": [
    "## 30) Write a Python program that can take a positive integer greater than 2 as input and write out the number of times one must repeatedly divide this number by 2 before getting a value less than 2."
   ]
  },
  {
   "cell_type": "code",
   "execution_count": 300,
   "metadata": {},
   "outputs": [],
   "source": [
    "#30\n",
    "def numberof2s(num):\n",
    "    bnum=bin(num)[2:]\n",
    "    zerosinLSB=len(bnum)-len(bnum.rstrip(\"0\"))\n",
    "    return zerosinLSB"
   ]
  },
  {
   "cell_type": "code",
   "execution_count": 301,
   "metadata": {},
   "outputs": [
    {
     "data": {
      "text/plain": [
       "2"
      ]
     },
     "execution_count": 301,
     "metadata": {},
     "output_type": "execute_result"
    }
   ],
   "source": [
    "numberof2s(36)"
   ]
  },
  {
   "cell_type": "code",
   "execution_count": 302,
   "metadata": {},
   "outputs": [
    {
     "data": {
      "text/plain": [
       "5"
      ]
     },
     "execution_count": 302,
     "metadata": {},
     "output_type": "execute_result"
    }
   ],
   "source": [
    "numberof2s(32)"
   ]
  },
  {
   "cell_type": "markdown",
   "metadata": {},
   "source": [
    "## 31) Write a Python program that can “make change.” Your program should take two numbers as input, one that is a monetary amount charged and the other that is a monetary amount given. It should then return the number of each kind of bill and coin to give back as change for the difference between the amount given and the amount charged. The values assigned to the bills and coins can be based on the monetary system of any current or former government. Try to design your program so that it returns as few bills and coins as possible."
   ]
  },
  {
   "cell_type": "code",
   "execution_count": 306,
   "metadata": {},
   "outputs": [
    {
     "name": "stdout",
     "output_type": "stream",
     "text": [
      " Enter two ints: 50 500\n",
      "{200: 2, 50: 1}\n"
     ]
    }
   ],
   "source": [
    "#31\n",
    "charged,given = map(int,input(\" Enter two ints: \").split())\n",
    "denominations=[1000,500,200,100,50,20,10,5,1]\n",
    "assert given>=charged, \"Give more money!\"\n",
    "change={}\n",
    "left = given - charged\n",
    "for i in denominations: \n",
    "    amount, left = divmod(left,i) # getting the number of denominations of one type required and the money left after selecting them\n",
    "    if amount:\n",
    "        change[i] = int(amount)\n",
    "print(change)"
   ]
  },
  {
   "cell_type": "markdown",
   "metadata": {},
   "source": [
    "## 32) Write a Python program that can simulate a simple calculator, using the console as the exclusive input and output device. That is, each input to the calculator, be it a number, like 12.34 or 1034, or an operator, like + or =, can be done on a separate line. After each such input, you should output to the Python console what would be displayed on your calculator."
   ]
  },
  {
   "cell_type": "code",
   "execution_count": 307,
   "metadata": {},
   "outputs": [
    {
     "name": "stdout",
     "output_type": "stream",
     "text": [
      "Enter a number: 3\n",
      "Give the operator: +\n",
      "Enter the second number: 6\n",
      "9\n",
      "Enter a number: Hey\n",
      "Invalid Format\n",
      "Enter a number: Hey\n",
      "Invalid Format\n",
      "Enter a number: Hey\n",
      "Invalid Format\n",
      "Enter a number: -777\n",
      "Terminating the calculator!\n"
     ]
    }
   ],
   "source": [
    "def operations(a,b,operation):\n",
    "    if operation==\"+\": return a+b\n",
    "    elif operation==\"-\": return a-b\n",
    "    elif operation==\"*\": return a*b\n",
    "    elif operation==\"/\": return a/b\n",
    "    elif operation==\"//\": return a//b\n",
    "    elif operation==\"%\": return a%b\n",
    "    elif operation==\"**\": return pow(a,b)\n",
    "    else:\n",
    "        return \"Operator not defined\"\n",
    "a=None\n",
    "b=None\n",
    "op=None\n",
    "while True:\n",
    "    try:\n",
    "        a=int(input(\"Enter a number: \"))\n",
    "        if a==-777:\n",
    "            print(\"Terminating the calculator!\")\n",
    "            break\n",
    "        op=input(\"Give the operator: \")\n",
    "        b=int(input(\"Enter the second number: \"))\n",
    "        print(operations(a,b,op))\n",
    "    except Exception:\n",
    "        print(\"Invalid Format\")"
   ]
  },
  {
   "cell_type": "markdown",
   "metadata": {},
   "source": [
    "## 33) Write a Python program that simulates a handheld calculator. Your program should process input from the Python console representing buttons that are “pushed,” and then output the contents of the screen after each operation is performed. Minimally, your calculator should be able to process the basic arithmetic operations and a reset/clear operation."
   ]
  },
  {
   "cell_type": "code",
   "execution_count": 308,
   "metadata": {},
   "outputs": [
    {
     "name": "stdout",
     "output_type": "stream",
     "text": [
      "Welcome to the Calculator, the supported operations are: + - * / // % **\n",
      "Use commands clr to clear the result, rst to reset and exit to exit the program\n",
      "3\n",
      "+\n",
      "9\n",
      "12\n",
      "rst\n",
      "exit\n"
     ]
    }
   ],
   "source": [
    "def operations(a,b,operation):\n",
    "    if operation==\"+\": return a+b\n",
    "    elif operation==\"-\": return a-b\n",
    "    elif operation==\"*\": return a*b\n",
    "    elif operation==\"/\": return a/b\n",
    "    elif operation==\"//\": return a//b\n",
    "    elif operation==\"%\": return a%b\n",
    "    elif operation==\"**\": return pow(a,b)\n",
    "    else:\n",
    "        return \"Operator not defined\"\n",
    "def commands(a):\n",
    "    if a==\"clr\":\n",
    "        return 0\n",
    "    elif a==\"rst\":\n",
    "        return 1\n",
    "    elif a==\"exit\":\n",
    "        return 2\n",
    "    \n",
    "a=None\n",
    "b=None\n",
    "op=None\n",
    "val=None\n",
    "print(\"Welcome to the Calculator, the supported operations are: + - * / // % **\")\n",
    "print(\"Use commands clr to clear the result, rst to reset and exit to exit the program\")\n",
    "\n",
    "while True:\n",
    "    try:\n",
    "        a=input()\n",
    "        a=int(a)\n",
    "        op=input()\n",
    "        b=int(input())\n",
    "        print(operations(a,b,op))\n",
    "    except Exception:\n",
    "        val=commands(a)\n",
    "        if val==0:\n",
    "            print()\n",
    "            a=None\n",
    "        elif val==1:\n",
    "            a=None\n",
    "        elif val==2:\n",
    "            break"
   ]
  },
  {
   "cell_type": "markdown",
   "metadata": {},
   "source": [
    "## 34) A common punishment for school children is to write out a sentence multiple times. Write a Python stand-alone program that will write out the following sentence one hundred times: “I will never spam my friends again.” Your program should number each of the sentences and it should make eight different random-looking typos."
   ]
  },
  {
   "cell_type": "code",
   "execution_count": 309,
   "metadata": {
    "scrolled": true
   },
   "outputs": [
    {
     "name": "stdout",
     "output_type": "stream",
     "text": [
      "I will never spam my friends again.\n",
      "I will never spam my friends again.\n",
      "I will never spam my friends again.\n",
      "I will never spam my friends again.\n",
      "I will never spam my friends again.\n",
      "I will never spam my friends again.\n",
      "I will never spam my friends again.\n",
      "I will never spam my friends again.\n",
      "I will never spam my friends again.\n",
      "I will never spam my friends again.\n",
      "I will never spam my friends again.\n",
      "I will never spam my friends again.\n",
      "I will never spam my friends again.\n",
      "I will never spam my friends again.\n",
      "I will never spam my friends again.\n",
      "I will never spam my friends again.\n",
      "I will never spam my friends again.\n",
      "I will never spam my friends again.\n",
      "I will never spam my friends again.\n",
      "I will never spam my friends again.\n",
      "I will never spam my friends again.\n",
      "I will never spam my friends agNin.  <<== ERROR LINE\n",
      "I will never spam my friends again.\n",
      "I will never spam my friends again.\n",
      "I will neXer spam my friends again.  <<== ERROR LINE\n",
      "I will never spam my friends again.\n",
      "I will never spam my friends again.\n",
      "I will never spam my friends again.\n",
      "I will never spam my friends again.\n",
      "I will never spam my friends again.\n",
      "I will never spam my friends again.\n",
      "I will never spam my friends again.\n",
      "I will never spam my friends again.\n",
      "I will never spam my friends again.\n",
      "I will never spam my friends again.\n",
      "I will never spam my friends again.\n",
      "I will never spam my friends again.\n",
      "I will never spam my friends again.\n",
      "I will never spam my friends again.\n",
      "I will never spaR my friends again.  <<== ERROR LINE\n",
      "I will never spam my friends again.\n",
      "I will never spam my friends again.\n",
      "I will never spam my friends again.\n",
      "I will never spam my friends again.\n",
      "I will never spam my friends again.\n",
      "I will never spam my friends again.\n",
      "I will never spam my friends again.\n",
      "I will never spam my friends again.\n",
      "I will never spam my friends again.\n",
      "I will never spam my friends again.\n",
      "I will never spam my friends again.\n",
      "I will never spam my friends again.\n",
      "I will never spam my friends again.\n",
      "I will never spam my friends again.\n",
      "I will never spam my friends again.\n",
      "I will never spam my friends again.\n",
      "I will never spam my friends again.\n",
      "I will never spam my friends again.\n",
      "I will never spam my friends again.\n",
      "I will never spam my friends again.\n",
      "I will never spam my friends again.\n",
      "I will never spam my friends again.\n",
      "I will never spam my friends again.\n",
      "I will never spam my friends again.\n",
      "I will never spam my friends again.\n",
      "I will never spam my friends again.\n",
      "I wJll never spam my friends again.  <<== ERROR LINE\n",
      "I will never spam my friends again.\n",
      "I will never spam my friends again.\n",
      "I will never spam my friends againw  <<== ERROR LINE\n",
      "I will never spam my friends again.\n",
      "I will never spam my friends again.\n",
      "I will never spam my friends again.\n",
      "I will never spam my friends again.\n",
      "I will never spam my friends again.\n",
      "I will never spam my friends again.\n",
      "I will never spam my friends again.\n",
      "I will never spam my friends again.\n",
      "I will never spam my friends again.\n",
      "I will never spam my friends again.\n",
      "I will never spam my friends again.\n",
      "I will never spam my friends again.\n",
      "I will never spam my friends again.\n",
      "I will never spam my friends againT  <<== ERROR LINE\n",
      "I will never spam my friends again.\n",
      "I will never spam my friends again.\n",
      "I will never spam my friends again.\n",
      "I will never spam my friends again.\n",
      "I will never spam my friends again.\n",
      "I will nevPr spam my friends again.  <<== ERROR LINE\n",
      "I will nevar spam my friends again.  <<== ERROR LINE\n",
      "I will never spam my friends again.\n",
      "I will never spam my friends again.\n",
      "I will never spam my friends again.\n",
      "I will never spam my friends again.\n",
      "I will never spam my friends again.\n",
      "I will never spam my friends again.\n",
      "I will never spam my friends again.\n",
      "I will never spam my friends again.\n",
      "I will never spam my friends again.\n"
     ]
    }
   ],
   "source": [
    "import random\n",
    "s=\"I will never spam my friends again.\" # our string for spam\n",
    "def error(s,rang): # the function makes a string get error at random location with random char\n",
    "    errorLocation=random.randrange(0,len(s)) # choosing the random location in the string for error\n",
    "    errorChar=random.choice(rang) # getting the random char from the list rang \n",
    "    errorText=list(s) # converting the spam string to a list to mutate\n",
    "    errorText[errorLocation]=chr(errorChar) # mutating the string \n",
    "    return \"\".join(errorText) # returning the string with the error\n",
    "def spam(s,errors=8,lines=100): # our spam function that will chose the error lines \n",
    "    rang=list(range(ord(\"a\"),ord(\"z\")+1))+list(range(ord(\"A\"),ord(\"Z\")+1)) # creating the letters for the errors to pick from\n",
    "    lineCounter=0 #counting the total number of errors\n",
    "    errorLines=set() # trying to avoid duplicates and using set to store the results\n",
    "    while lineCounter < errors: # looping for the location of lines which would have errors\n",
    "        newErrorLine=random.randrange(lines) # chosing the error line\n",
    "        if newErrorLine not in errorLines: #checking if the line has already been chosen or not\n",
    "            errorLines.add(newErrorLine) # chosing the location\n",
    "            lineCounter+=1 # counter increment\n",
    "    for i in range(lines): #looping the number of times we want to spam\n",
    "        if i not in errorLines: #if the line is normal then print the spam\n",
    "            print(s)\n",
    "        else:\n",
    "            print(error(s,rang),\" <<== ERROR LINE\") # else print from the error set that would call the mutating function for the given string\n",
    "spam(s)"
   ]
  },
  {
   "cell_type": "markdown",
   "metadata": {},
   "source": [
    "## 35) The birthday paradox says that the probability that two people in a room will have the same birthday is more than half, provided n, the number of people in the room, is more than 23. This property is not really a paradox, but many people find it surprising. Design a Python program that can test this paradox by a series of experiments on randomly generated birthdays, which test this paradox for n = 5,10,15,20,...,100.\n"
   ]
  },
  {
   "cell_type": "code",
   "execution_count": 310,
   "metadata": {},
   "outputs": [
    {
     "name": "stdout",
     "output_type": "stream",
     "text": [
      "Number of people:  5  Probablity:  2.56\n",
      "Number of people:  10  Probablity:  11.41\n",
      "Number of people:  15  Probablity:  24.72\n",
      "Number of people:  20  Probablity:  40.410000000000004\n",
      "Number of people:  25  Probablity:  57.57\n",
      "Number of people:  30  Probablity:  69.67999999999999\n",
      "Number of people:  35  Probablity:  81.74\n",
      "Number of people:  40  Probablity:  88.67\n",
      "Number of people:  45  Probablity:  94.08999999999999\n",
      "Number of people:  50  Probablity:  97.2\n",
      "Number of people:  55  Probablity:  98.95\n",
      "Number of people:  60  Probablity:  99.5\n",
      "Number of people:  65  Probablity:  99.83999999999999\n",
      "Number of people:  70  Probablity:  99.9\n",
      "Number of people:  75  Probablity:  99.99\n",
      "Number of people:  80  Probablity:  100.0\n",
      "Number of people:  85  Probablity:  100.0\n",
      "Number of people:  90  Probablity:  100.0\n",
      "Number of people:  95  Probablity:  100.0\n",
      "Number of people:  100  Probablity:  100.0\n"
     ]
    }
   ],
   "source": [
    "import random\n",
    "def Birthdays(num):\n",
    "    bset=set()\n",
    "    birthdays=[random.randint(1,365) for i in range(num)]\n",
    "    for birthday in birthdays:\n",
    "        if birthday not in bset:\n",
    "             bset.add(birthday)\n",
    "        else:\n",
    "           return True\n",
    "    return False\n",
    "def tester(num,loops=10000):\n",
    "    hits=0\n",
    "    for _ in range(loops):\n",
    "        if Birthdays(num):\n",
    "            hits+=1\n",
    "    return (hits/loops)*100\n",
    "# calling the function\n",
    "for i in range(5,101,5):\n",
    "    print(\"Number of people: \",i,\" Probablity: \",tester(i))"
   ]
  },
  {
   "cell_type": "markdown",
   "metadata": {},
   "source": [
    "## 36) Write a Python program that inputs a list of words, separated by white- space, and outputs how many times each word appears in the list. You need not worry about efficiency at this point, however, as this topic is something that will be addressed later in this book."
   ]
  },
  {
   "cell_type": "code",
   "execution_count": 311,
   "metadata": {},
   "outputs": [
    {
     "name": "stdout",
     "output_type": "stream",
     "text": [
      "Enter some words: The apple that I ate today was the best apple that I have ever had\n",
      "The words you provided are:  the apple that i ate today was the best apple that i have ever had\n",
      "The frequency follows: \n",
      "{'the': 2, 'apple': 2, 'that': 2, 'i': 2, 'ate': 1, 'today': 1, 'was': 1, 'best': 1, 'have': 1, 'ever': 1, 'had': 1}\n"
     ]
    }
   ],
   "source": [
    "listy=list(map(str,input(\"Enter some words: \").lower().strip().split()))\n",
    "hashtable={}\n",
    "for i in range(len(listy)):\n",
    "    if listy[i] not in hashtable:\n",
    "        hashtable[listy[i]]=1\n",
    "    else:\n",
    "        hashtable[listy[i]]+=1\n",
    "print(\"The words you provided are: \",*listy)\n",
    "print(\"The frequency follows: \")\n",
    "print(hashtable)"
   ]
  },
  {
   "cell_type": "markdown",
   "metadata": {},
   "source": [
    "<p align=\"center\">\n",
    "    Chapter 1 finished\n",
    "</p>"
   ]
  }
 ],
 "metadata": {
  "kernelspec": {
   "display_name": "Python 3",
   "language": "python",
   "name": "python3"
  },
  "language_info": {
   "codemirror_mode": {
    "name": "ipython",
    "version": 3
   },
   "file_extension": ".py",
   "mimetype": "text/x-python",
   "name": "python",
   "nbconvert_exporter": "python",
   "pygments_lexer": "ipython3",
   "version": "3.8.0"
  }
 },
 "nbformat": 4,
 "nbformat_minor": 2
}
