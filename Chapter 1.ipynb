{
 "cells": [
  {
   "cell_type": "code",
   "execution_count": 1,
   "metadata": {},
   "outputs": [
    {
     "name": "stdout",
     "output_type": "stream",
     "text": [
      "hey\n",
      "CPU times: user 198 µs, sys: 137 µs, total: 335 µs\n",
      "Wall time: 218 µs\n"
     ]
    }
   ],
   "source": [
    "%%time\n",
    "print(\"hey\")"
   ]
  },
  {
   "cell_type": "code",
   "execution_count": 9,
   "metadata": {},
   "outputs": [
    {
     "name": "stdout",
     "output_type": "stream",
     "text": [
      "CPU times: user 910 ms, sys: 127 ms, total: 1.04 s\n",
      "Wall time: 1.12 s\n"
     ]
    },
    {
     "data": {
      "text/plain": [
       "333333283333335000000"
      ]
     },
     "execution_count": 9,
     "metadata": {},
     "output_type": "execute_result"
    }
   ],
   "source": [
    "%%time\n",
    "result=[k*k for k in range(1,10000000)]\n",
    "sum(result)"
   ]
  },
  {
   "cell_type": "code",
   "execution_count": 10,
   "metadata": {},
   "outputs": [
    {
     "name": "stdout",
     "output_type": "stream",
     "text": [
      "CPU times: user 1.28 s, sys: 41.9 ms, total: 1.32 s\n",
      "Wall time: 1.38 s\n"
     ]
    },
    {
     "data": {
      "text/plain": [
       "333333283333335000000"
      ]
     },
     "execution_count": 10,
     "metadata": {},
     "output_type": "execute_result"
    }
   ],
   "source": [
    "%%time\n",
    "result=(k*k for k in range(1,10000000))\n",
    "sum(result)"
   ]
  },
  {
   "cell_type": "code",
   "execution_count": 11,
   "metadata": {},
   "outputs": [],
   "source": [
    "k={\"a\":\"b\",\"c\":\"d\"}"
   ]
  },
  {
   "cell_type": "code",
   "execution_count": 12,
   "metadata": {},
   "outputs": [
    {
     "data": {
      "text/plain": [
       "dict_items([('a', 'b'), ('c', 'd')])"
      ]
     },
     "execution_count": 12,
     "metadata": {},
     "output_type": "execute_result"
    }
   ],
   "source": [
    "k.items()"
   ]
  },
  {
   "cell_type": "code",
   "execution_count": 14,
   "metadata": {},
   "outputs": [
    {
     "name": "stdout",
     "output_type": "stream",
     "text": [
      "a b\n",
      "c d\n"
     ]
    }
   ],
   "source": [
    "for k,v in k.items():\n",
    "    print(k,v)"
   ]
  },
  {
   "cell_type": "code",
   "execution_count": 15,
   "metadata": {},
   "outputs": [],
   "source": [
    "x,y=1,1"
   ]
  },
  {
   "cell_type": "code",
   "execution_count": 16,
   "metadata": {},
   "outputs": [
    {
     "data": {
      "text/plain": [
       "(1, 1)"
      ]
     },
     "execution_count": 16,
     "metadata": {},
     "output_type": "execute_result"
    }
   ],
   "source": [
    "(1,1)\n"
   ]
  },
  {
   "cell_type": "code",
   "execution_count": 17,
   "metadata": {},
   "outputs": [
    {
     "data": {
      "text/plain": [
       "['In',\n",
       " 'Out',\n",
       " '_',\n",
       " '_1',\n",
       " '_10',\n",
       " '_12',\n",
       " '_16',\n",
       " '_2',\n",
       " '_3',\n",
       " '_4',\n",
       " '_5',\n",
       " '_6',\n",
       " '_7',\n",
       " '_8',\n",
       " '_9',\n",
       " '__',\n",
       " '___',\n",
       " '__builtin__',\n",
       " '__builtins__',\n",
       " '__doc__',\n",
       " '__loader__',\n",
       " '__name__',\n",
       " '__package__',\n",
       " '__spec__',\n",
       " '_dh',\n",
       " '_i',\n",
       " '_i1',\n",
       " '_i10',\n",
       " '_i11',\n",
       " '_i12',\n",
       " '_i13',\n",
       " '_i14',\n",
       " '_i15',\n",
       " '_i16',\n",
       " '_i17',\n",
       " '_i2',\n",
       " '_i3',\n",
       " '_i4',\n",
       " '_i5',\n",
       " '_i6',\n",
       " '_i7',\n",
       " '_i8',\n",
       " '_i9',\n",
       " '_ih',\n",
       " '_ii',\n",
       " '_iii',\n",
       " '_oh',\n",
       " 'exit',\n",
       " 'get_ipython',\n",
       " 'k',\n",
       " 'quit',\n",
       " 'result',\n",
       " 'v',\n",
       " 'x',\n",
       " 'y']"
      ]
     },
     "execution_count": 17,
     "metadata": {},
     "output_type": "execute_result"
    }
   ],
   "source": [
    "dir()"
   ]
  },
  {
   "cell_type": "code",
   "execution_count": 18,
   "metadata": {},
   "outputs": [
    {
     "data": {
      "text/plain": [
       "{'__name__': '__main__',\n",
       " '__doc__': 'Automatically created module for IPython interactive environment',\n",
       " '__package__': None,\n",
       " '__loader__': None,\n",
       " '__spec__': None,\n",
       " '__builtin__': <module 'builtins' (built-in)>,\n",
       " '__builtins__': <module 'builtins' (built-in)>,\n",
       " '_ih': ['',\n",
       "  \"get_ipython().run_cell_magic('time', '', 'result=[k*k for k in range(1,10000)]\\\\nsum(result)\\\\n')\",\n",
       "  \"get_ipython().run_cell_magic('time', '', 'result=[k*k for k in range(1,100000)]\\\\nsum(result)\\\\n')\",\n",
       "  \"get_ipython().run_cell_magic('time', '', 'result=[k*k for k in range(1,1000000)]\\\\nsum(result)\\\\n')\",\n",
       "  \"get_ipython().run_cell_magic('time', '', 'result=[k*k for k in range(1,10000000)]\\\\nsum(result)\\\\n')\",\n",
       "  \"get_ipython().run_cell_magic('time', '', 'result=[k*k for k in range(1,100000000)]\\\\nsum(result)\\\\n')\",\n",
       "  \"get_ipython().run_cell_magic('time', '', 'result=(k*k for k in range(1,100000000))\\\\nsum(result)\\\\n')\",\n",
       "  \"get_ipython().run_cell_magic('time', '', 'result=[k*k for k in range(1,10000000)]\\\\nsum(result)\\\\n')\",\n",
       "  \"get_ipython().run_cell_magic('time', '', 'result=(k*k for k in range(1,10000000))\\\\nsum(result)\\\\n')\",\n",
       "  \"get_ipython().run_cell_magic('time', '', 'result=[k*k for k in range(1,10000000)]\\\\nsum(result)\\\\n')\",\n",
       "  \"get_ipython().run_cell_magic('time', '', 'result=(k*k for k in range(1,10000000))\\\\nsum(result)\\\\n')\",\n",
       "  'k={\"a\":\"b\",\"c\":\"d\"}',\n",
       "  'k.items()',\n",
       "  'for k,v in k,items():\\n    print(k,v)',\n",
       "  'for k,v in k.items():\\n    print(k,v)',\n",
       "  'x,y=1,1',\n",
       "  '(1,1)',\n",
       "  'dir()',\n",
       "  'vars()'],\n",
       " '_oh': {1: 333283335000,\n",
       "  2: 333328333350000,\n",
       "  3: 333332833333500000,\n",
       "  4: 333333283333335000000,\n",
       "  5: 333333328333333350000000,\n",
       "  6: 333333328333333350000000,\n",
       "  7: 333333283333335000000,\n",
       "  8: 333333283333335000000,\n",
       "  9: 333333283333335000000,\n",
       "  10: 333333283333335000000,\n",
       "  12: dict_items([('a', 'b'), ('c', 'd')]),\n",
       "  16: (1, 1),\n",
       "  17: ['In',\n",
       "   'Out',\n",
       "   '_',\n",
       "   '_1',\n",
       "   '_10',\n",
       "   '_12',\n",
       "   '_16',\n",
       "   '_2',\n",
       "   '_3',\n",
       "   '_4',\n",
       "   '_5',\n",
       "   '_6',\n",
       "   '_7',\n",
       "   '_8',\n",
       "   '_9',\n",
       "   '__',\n",
       "   '___',\n",
       "   '__builtin__',\n",
       "   '__builtins__',\n",
       "   '__doc__',\n",
       "   '__loader__',\n",
       "   '__name__',\n",
       "   '__package__',\n",
       "   '__spec__',\n",
       "   '_dh',\n",
       "   '_i',\n",
       "   '_i1',\n",
       "   '_i10',\n",
       "   '_i11',\n",
       "   '_i12',\n",
       "   '_i13',\n",
       "   '_i14',\n",
       "   '_i15',\n",
       "   '_i16',\n",
       "   '_i17',\n",
       "   '_i2',\n",
       "   '_i3',\n",
       "   '_i4',\n",
       "   '_i5',\n",
       "   '_i6',\n",
       "   '_i7',\n",
       "   '_i8',\n",
       "   '_i9',\n",
       "   '_ih',\n",
       "   '_ii',\n",
       "   '_iii',\n",
       "   '_oh',\n",
       "   'exit',\n",
       "   'get_ipython',\n",
       "   'k',\n",
       "   'quit',\n",
       "   'result',\n",
       "   'v',\n",
       "   'x',\n",
       "   'y']},\n",
       " '_dh': ['/Users/abhinavutkarsh/Desktop'],\n",
       " 'In': ['',\n",
       "  \"get_ipython().run_cell_magic('time', '', 'result=[k*k for k in range(1,10000)]\\\\nsum(result)\\\\n')\",\n",
       "  \"get_ipython().run_cell_magic('time', '', 'result=[k*k for k in range(1,100000)]\\\\nsum(result)\\\\n')\",\n",
       "  \"get_ipython().run_cell_magic('time', '', 'result=[k*k for k in range(1,1000000)]\\\\nsum(result)\\\\n')\",\n",
       "  \"get_ipython().run_cell_magic('time', '', 'result=[k*k for k in range(1,10000000)]\\\\nsum(result)\\\\n')\",\n",
       "  \"get_ipython().run_cell_magic('time', '', 'result=[k*k for k in range(1,100000000)]\\\\nsum(result)\\\\n')\",\n",
       "  \"get_ipython().run_cell_magic('time', '', 'result=(k*k for k in range(1,100000000))\\\\nsum(result)\\\\n')\",\n",
       "  \"get_ipython().run_cell_magic('time', '', 'result=[k*k for k in range(1,10000000)]\\\\nsum(result)\\\\n')\",\n",
       "  \"get_ipython().run_cell_magic('time', '', 'result=(k*k for k in range(1,10000000))\\\\nsum(result)\\\\n')\",\n",
       "  \"get_ipython().run_cell_magic('time', '', 'result=[k*k for k in range(1,10000000)]\\\\nsum(result)\\\\n')\",\n",
       "  \"get_ipython().run_cell_magic('time', '', 'result=(k*k for k in range(1,10000000))\\\\nsum(result)\\\\n')\",\n",
       "  'k={\"a\":\"b\",\"c\":\"d\"}',\n",
       "  'k.items()',\n",
       "  'for k,v in k,items():\\n    print(k,v)',\n",
       "  'for k,v in k.items():\\n    print(k,v)',\n",
       "  'x,y=1,1',\n",
       "  '(1,1)',\n",
       "  'dir()',\n",
       "  'vars()'],\n",
       " 'Out': {1: 333283335000,\n",
       "  2: 333328333350000,\n",
       "  3: 333332833333500000,\n",
       "  4: 333333283333335000000,\n",
       "  5: 333333328333333350000000,\n",
       "  6: 333333328333333350000000,\n",
       "  7: 333333283333335000000,\n",
       "  8: 333333283333335000000,\n",
       "  9: 333333283333335000000,\n",
       "  10: 333333283333335000000,\n",
       "  12: dict_items([('a', 'b'), ('c', 'd')]),\n",
       "  16: (1, 1),\n",
       "  17: ['In',\n",
       "   'Out',\n",
       "   '_',\n",
       "   '_1',\n",
       "   '_10',\n",
       "   '_12',\n",
       "   '_16',\n",
       "   '_2',\n",
       "   '_3',\n",
       "   '_4',\n",
       "   '_5',\n",
       "   '_6',\n",
       "   '_7',\n",
       "   '_8',\n",
       "   '_9',\n",
       "   '__',\n",
       "   '___',\n",
       "   '__builtin__',\n",
       "   '__builtins__',\n",
       "   '__doc__',\n",
       "   '__loader__',\n",
       "   '__name__',\n",
       "   '__package__',\n",
       "   '__spec__',\n",
       "   '_dh',\n",
       "   '_i',\n",
       "   '_i1',\n",
       "   '_i10',\n",
       "   '_i11',\n",
       "   '_i12',\n",
       "   '_i13',\n",
       "   '_i14',\n",
       "   '_i15',\n",
       "   '_i16',\n",
       "   '_i17',\n",
       "   '_i2',\n",
       "   '_i3',\n",
       "   '_i4',\n",
       "   '_i5',\n",
       "   '_i6',\n",
       "   '_i7',\n",
       "   '_i8',\n",
       "   '_i9',\n",
       "   '_ih',\n",
       "   '_ii',\n",
       "   '_iii',\n",
       "   '_oh',\n",
       "   'exit',\n",
       "   'get_ipython',\n",
       "   'k',\n",
       "   'quit',\n",
       "   'result',\n",
       "   'v',\n",
       "   'x',\n",
       "   'y']},\n",
       " 'get_ipython': <bound method InteractiveShell.get_ipython of <ipykernel.zmqshell.ZMQInteractiveShell object at 0x7fa12b1ead30>>,\n",
       " 'exit': <IPython.core.autocall.ZMQExitAutocall at 0x7fa12b203c70>,\n",
       " 'quit': <IPython.core.autocall.ZMQExitAutocall at 0x7fa12b203c70>,\n",
       " '_': ['In',\n",
       "  'Out',\n",
       "  '_',\n",
       "  '_1',\n",
       "  '_10',\n",
       "  '_12',\n",
       "  '_16',\n",
       "  '_2',\n",
       "  '_3',\n",
       "  '_4',\n",
       "  '_5',\n",
       "  '_6',\n",
       "  '_7',\n",
       "  '_8',\n",
       "  '_9',\n",
       "  '__',\n",
       "  '___',\n",
       "  '__builtin__',\n",
       "  '__builtins__',\n",
       "  '__doc__',\n",
       "  '__loader__',\n",
       "  '__name__',\n",
       "  '__package__',\n",
       "  '__spec__',\n",
       "  '_dh',\n",
       "  '_i',\n",
       "  '_i1',\n",
       "  '_i10',\n",
       "  '_i11',\n",
       "  '_i12',\n",
       "  '_i13',\n",
       "  '_i14',\n",
       "  '_i15',\n",
       "  '_i16',\n",
       "  '_i17',\n",
       "  '_i2',\n",
       "  '_i3',\n",
       "  '_i4',\n",
       "  '_i5',\n",
       "  '_i6',\n",
       "  '_i7',\n",
       "  '_i8',\n",
       "  '_i9',\n",
       "  '_ih',\n",
       "  '_ii',\n",
       "  '_iii',\n",
       "  '_oh',\n",
       "  'exit',\n",
       "  'get_ipython',\n",
       "  'k',\n",
       "  'quit',\n",
       "  'result',\n",
       "  'v',\n",
       "  'x',\n",
       "  'y'],\n",
       " '__': (1, 1),\n",
       " '___': dict_items([('a', 'b'), ('c', 'd')]),\n",
       " '_i': 'dir()',\n",
       " '_ii': '(1,1)',\n",
       " '_iii': 'x,y=1,1',\n",
       " '_i1': '%%time\\nresult=[k*k for k in range(1,10000)]\\nsum(result)',\n",
       " 'result': <generator object <genexpr> at 0x7fa12e4a0820>,\n",
       " '_1': 333283335000,\n",
       " '_i2': '%%time\\nresult=[k*k for k in range(1,100000)]\\nsum(result)',\n",
       " '_2': 333328333350000,\n",
       " '_i3': '%%time\\nresult=[k*k for k in range(1,1000000)]\\nsum(result)',\n",
       " '_3': 333332833333500000,\n",
       " '_i4': '%%time\\nresult=[k*k for k in range(1,10000000)]\\nsum(result)',\n",
       " '_4': 333333283333335000000,\n",
       " '_i5': '%%time\\nresult=[k*k for k in range(1,100000000)]\\nsum(result)',\n",
       " '_5': 333333328333333350000000,\n",
       " '_i6': '%%time\\nresult=(k*k for k in range(1,100000000))\\nsum(result)',\n",
       " '_6': 333333328333333350000000,\n",
       " '_i7': '%%time\\nresult=[k*k for k in range(1,10000000)]\\nsum(result)',\n",
       " '_7': 333333283333335000000,\n",
       " '_i8': '%%time\\nresult=(k*k for k in range(1,10000000))\\nsum(result)',\n",
       " '_8': 333333283333335000000,\n",
       " '_i9': '%%time\\nresult=[k*k for k in range(1,10000000)]\\nsum(result)',\n",
       " '_9': 333333283333335000000,\n",
       " '_i10': '%%time\\nresult=(k*k for k in range(1,10000000))\\nsum(result)',\n",
       " '_10': 333333283333335000000,\n",
       " '_i11': 'k={\"a\":\"b\",\"c\":\"d\"}',\n",
       " 'k': 'c',\n",
       " '_i12': 'k.items()',\n",
       " '_12': dict_items([('a', 'b'), ('c', 'd')]),\n",
       " '_i13': 'for k,v in k,items():\\n    print(k,v)',\n",
       " '_i14': 'for k,v in k.items():\\n    print(k,v)',\n",
       " 'v': 'd',\n",
       " '_i15': 'x,y=1,1',\n",
       " 'x': 1,\n",
       " 'y': 1,\n",
       " '_i16': '(1,1)',\n",
       " '_16': (1, 1),\n",
       " '_i17': 'dir()',\n",
       " '_17': ['In',\n",
       "  'Out',\n",
       "  '_',\n",
       "  '_1',\n",
       "  '_10',\n",
       "  '_12',\n",
       "  '_16',\n",
       "  '_2',\n",
       "  '_3',\n",
       "  '_4',\n",
       "  '_5',\n",
       "  '_6',\n",
       "  '_7',\n",
       "  '_8',\n",
       "  '_9',\n",
       "  '__',\n",
       "  '___',\n",
       "  '__builtin__',\n",
       "  '__builtins__',\n",
       "  '__doc__',\n",
       "  '__loader__',\n",
       "  '__name__',\n",
       "  '__package__',\n",
       "  '__spec__',\n",
       "  '_dh',\n",
       "  '_i',\n",
       "  '_i1',\n",
       "  '_i10',\n",
       "  '_i11',\n",
       "  '_i12',\n",
       "  '_i13',\n",
       "  '_i14',\n",
       "  '_i15',\n",
       "  '_i16',\n",
       "  '_i17',\n",
       "  '_i2',\n",
       "  '_i3',\n",
       "  '_i4',\n",
       "  '_i5',\n",
       "  '_i6',\n",
       "  '_i7',\n",
       "  '_i8',\n",
       "  '_i9',\n",
       "  '_ih',\n",
       "  '_ii',\n",
       "  '_iii',\n",
       "  '_oh',\n",
       "  'exit',\n",
       "  'get_ipython',\n",
       "  'k',\n",
       "  'quit',\n",
       "  'result',\n",
       "  'v',\n",
       "  'x',\n",
       "  'y'],\n",
       " '_i18': 'vars()'}"
      ]
     },
     "execution_count": 18,
     "metadata": {},
     "output_type": "execute_result"
    }
   ],
   "source": [
    "vars()"
   ]
  },
  {
   "cell_type": "code",
   "execution_count": 20,
   "metadata": {},
   "outputs": [],
   "source": [
    "#1\n",
    "n=10\n",
    "m=20\n",
    "def isMultiple(m,n):\n",
    "    state=True\n",
    "    return True if m%n==0 else False"
   ]
  },
  {
   "cell_type": "code",
   "execution_count": 22,
   "metadata": {},
   "outputs": [
    {
     "data": {
      "text/plain": [
       "False"
      ]
     },
     "execution_count": 22,
     "metadata": {},
     "output_type": "execute_result"
    }
   ],
   "source": [
    "isMultiple(n,m)"
   ]
  },
  {
   "cell_type": "code",
   "execution_count": 23,
   "metadata": {},
   "outputs": [],
   "source": [
    "#2\n",
    "def iseven(n):\n",
    "    return True if int(bin(n)[-1])!=1 else False"
   ]
  },
  {
   "cell_type": "code",
   "execution_count": 31,
   "metadata": {},
   "outputs": [
    {
     "data": {
      "text/plain": [
       "True"
      ]
     },
     "execution_count": 31,
     "metadata": {},
     "output_type": "execute_result"
    }
   ],
   "source": [
    "iseven(10)\n",
    "\n"
   ]
  },
  {
   "cell_type": "code",
   "execution_count": 36,
   "metadata": {},
   "outputs": [
    {
     "data": {
      "text/plain": [
       "False"
      ]
     },
     "execution_count": 36,
     "metadata": {},
     "output_type": "execute_result"
    }
   ],
   "source": [
    "iseven(1)"
   ]
  },
  {
   "cell_type": "code",
   "execution_count": 37,
   "metadata": {},
   "outputs": [],
   "source": [
    "#3\n",
    "def minmax(seq):\n",
    "    tup=()\n",
    "    minima=56789\n",
    "    maxima=-8765\n",
    "    for i in seq:\n",
    "        maxima = i if i>maxima else maxima\n",
    "        minima = i if i<minima else minima\n",
    "    return (maxima,minima)\n",
    "        "
   ]
  },
  {
   "cell_type": "code",
   "execution_count": 39,
   "metadata": {},
   "outputs": [
    {
     "data": {
      "text/plain": [
       "(4, -1)"
      ]
     },
     "execution_count": 39,
     "metadata": {},
     "output_type": "execute_result"
    }
   ],
   "source": [
    "minmax([-1,2,3,4])"
   ]
  },
  {
   "cell_type": "code",
   "execution_count": 42,
   "metadata": {},
   "outputs": [],
   "source": [
    "#4\n",
    "def square(n):\n",
    "    return sum([k*k for k in range(1,n)])"
   ]
  },
  {
   "cell_type": "code",
   "execution_count": 44,
   "metadata": {},
   "outputs": [
    {
     "data": {
      "text/plain": [
       "30"
      ]
     },
     "execution_count": 44,
     "metadata": {},
     "output_type": "execute_result"
    }
   ],
   "source": [
    "square(5)"
   ]
  },
  {
   "cell_type": "code",
   "execution_count": 47,
   "metadata": {},
   "outputs": [
    {
     "data": {
      "text/plain": [
       "30"
      ]
     },
     "execution_count": 47,
     "metadata": {},
     "output_type": "execute_result"
    }
   ],
   "source": [
    "#5\n",
    "n=5\n",
    "total_square_sum=sum([k*k for k in range(1,n)])\n",
    "total_square_sum"
   ]
  },
  {
   "cell_type": "code",
   "execution_count": 48,
   "metadata": {},
   "outputs": [],
   "source": [
    "#6\n",
    "def oddSquareSum(n):\n",
    "    return sum([k*k for k in range(1,n) if k%2==1])"
   ]
  },
  {
   "cell_type": "code",
   "execution_count": 49,
   "metadata": {},
   "outputs": [
    {
     "data": {
      "text/plain": [
       "10"
      ]
     },
     "execution_count": 49,
     "metadata": {},
     "output_type": "execute_result"
    }
   ],
   "source": [
    "oddSquareSum(5)"
   ]
  },
  {
   "cell_type": "code",
   "execution_count": 50,
   "metadata": {},
   "outputs": [
    {
     "data": {
      "text/plain": [
       "10"
      ]
     },
     "execution_count": 50,
     "metadata": {},
     "output_type": "execute_result"
    }
   ],
   "source": [
    "#7\n",
    "totalOddSum=sum([k*k for k in range(1,n) if k%2==1])\n",
    "totalOddSum"
   ]
  },
  {
   "cell_type": "code",
   "execution_count": 52,
   "metadata": {},
   "outputs": [
    {
     "name": "stdout",
     "output_type": "stream",
     "text": [
      "f\n",
      "f\n"
     ]
    }
   ],
   "source": [
    "#8\n",
    "s=\"acdefgh\"\n",
    "print(s[-3])\n",
    "print(s[len(s)-3])"
   ]
  },
  {
   "cell_type": "code",
   "execution_count": 61,
   "metadata": {},
   "outputs": [
    {
     "data": {
      "text/plain": [
       "[50, 60, 70, 80]"
      ]
     },
     "execution_count": 61,
     "metadata": {},
     "output_type": "execute_result"
    }
   ],
   "source": [
    "#9\n",
    "l=[i for i in range(50,90,10)]\n",
    "l"
   ]
  },
  {
   "cell_type": "code",
   "execution_count": 62,
   "metadata": {},
   "outputs": [
    {
     "data": {
      "text/plain": [
       "[8, 6, 4, 2, 0, -2, -4, -6, -8]"
      ]
     },
     "execution_count": 62,
     "metadata": {},
     "output_type": "execute_result"
    }
   ],
   "source": [
    "#10\n",
    "l=[i for i in range(8,-9,-2)]\n",
    "l"
   ]
  },
  {
   "cell_type": "code",
   "execution_count": 64,
   "metadata": {},
   "outputs": [
    {
     "data": {
      "text/plain": [
       "[1, 2, 4, 8, 16, 32, 64, 128, 256]"
      ]
     },
     "execution_count": 64,
     "metadata": {},
     "output_type": "execute_result"
    }
   ],
   "source": [
    "#11\n",
    "l=[pow(2,i) for i in range(0,9)]\n",
    "l"
   ]
  },
  {
   "cell_type": "code",
   "execution_count": 103,
   "metadata": {},
   "outputs": [],
   "source": [
    "#12\n",
    "# using the old l from last quesiton\n",
    "import random\n",
    "def choice(data): \n",
    "    try:\n",
    "        return data[random.randrange(1,len(data))]\n",
    "    except Exception as e:\n",
    "        print(\"Null list\", e)"
   ]
  },
  {
   "cell_type": "code",
   "execution_count": 104,
   "metadata": {},
   "outputs": [
    {
     "name": "stdout",
     "output_type": "stream",
     "text": [
      "Null list empty range for randrange() (1, 0, -1)\n"
     ]
    }
   ],
   "source": [
    "choice([])"
   ]
  },
  {
   "cell_type": "code",
   "execution_count": 105,
   "metadata": {},
   "outputs": [
    {
     "data": {
      "text/plain": [
       "16"
      ]
     },
     "execution_count": 105,
     "metadata": {},
     "output_type": "execute_result"
    }
   ],
   "source": [
    "choice(l)"
   ]
  },
  {
   "cell_type": "code",
   "execution_count": 106,
   "metadata": {},
   "outputs": [],
   "source": [
    "#13\n",
    "def reverse(data):\n",
    "    return data[::-1]"
   ]
  },
  {
   "cell_type": "code",
   "execution_count": 107,
   "metadata": {},
   "outputs": [
    {
     "data": {
      "text/plain": [
       "[256, 128, 64, 32, 16, 8, 4, 2, 1]"
      ]
     },
     "execution_count": 107,
     "metadata": {},
     "output_type": "execute_result"
    }
   ],
   "source": [
    "reverse(l)"
   ]
  },
  {
   "cell_type": "code",
   "execution_count": 108,
   "metadata": {},
   "outputs": [
    {
     "data": {
      "text/plain": [
       "[1, 2, 4, 8, 16, 32, 64, 128, 256]"
      ]
     },
     "execution_count": 108,
     "metadata": {},
     "output_type": "execute_result"
    }
   ],
   "source": [
    "l"
   ]
  },
  {
   "cell_type": "code",
   "execution_count": 115,
   "metadata": {},
   "outputs": [
    {
     "data": {
      "text/plain": [
       "[256, 128, 64, 32, 16, 8, 4, 2, 1]"
      ]
     },
     "execution_count": 115,
     "metadata": {},
     "output_type": "execute_result"
    }
   ],
   "source": [
    "l.reverse()\n",
    "l"
   ]
  },
  {
   "cell_type": "code",
   "execution_count": 119,
   "metadata": {},
   "outputs": [],
   "source": [
    "#14\n",
    "def pairProductOdd(data):\n",
    "    res=[]\n",
    "    pair=()\n",
    "    for i in range(len(data)):\n",
    "        for j in range(i,len(data)):\n",
    "            if (data[i]*data[j])%2==1:\n",
    "                pair=(data[i],data[j])\n",
    "                res.append(pair)\n",
    "    return res\n",
    "def pairProductOdd2(data):\n",
    "    counter=0 # for counting if there are 2 odds or not in the list\n",
    "    for i in data:\n",
    "        if i%2!=0:\n",
    "            counter+=1\n",
    "        if counter==2:\n",
    "            return True\n",
    "            break\n",
    "    return False\n",
    "    "
   ]
  },
  {
   "cell_type": "code",
   "execution_count": 120,
   "metadata": {},
   "outputs": [
    {
     "data": {
      "text/plain": [
       "[(1, 1),\n",
       " (1, 3),\n",
       " (1, 5),\n",
       " (1, 7),\n",
       " (1, 7),\n",
       " (3, 3),\n",
       " (3, 5),\n",
       " (3, 7),\n",
       " (3, 7),\n",
       " (5, 5),\n",
       " (5, 7),\n",
       " (5, 7),\n",
       " (7, 7),\n",
       " (7, 7),\n",
       " (7, 7)]"
      ]
     },
     "execution_count": 120,
     "metadata": {},
     "output_type": "execute_result"
    }
   ],
   "source": [
    "k=[1,2,3,4,5,6,6,7,7]\n",
    "pairProductOdd(k)"
   ]
  },
  {
   "cell_type": "code",
   "execution_count": 123,
   "metadata": {},
   "outputs": [
    {
     "data": {
      "text/plain": [
       "True"
      ]
     },
     "execution_count": 123,
     "metadata": {},
     "output_type": "execute_result"
    }
   ],
   "source": [
    "pairProductOdd2(k)"
   ]
  },
  {
   "cell_type": "code",
   "execution_count": 124,
   "metadata": {},
   "outputs": [
    {
     "data": {
      "text/plain": [
       "False"
      ]
     },
     "execution_count": 124,
     "metadata": {},
     "output_type": "execute_result"
    }
   ],
   "source": [
    "pairProductOdd2(l)\n",
    "#l=[256, 128, 64, 32, 16, 8, 4, 2, 1]"
   ]
  },
  {
   "cell_type": "code",
   "execution_count": null,
   "metadata": {},
   "outputs": [],
   "source": [
    "#15\n"
   ]
  }
 ],
 "metadata": {
  "kernelspec": {
   "display_name": "Python 3",
   "language": "python",
   "name": "python3"
  },
  "language_info": {
   "codemirror_mode": {
    "name": "ipython",
    "version": 3
   },
   "file_extension": ".py",
   "mimetype": "text/x-python",
   "name": "python",
   "nbconvert_exporter": "python",
   "pygments_lexer": "ipython3",
   "version": "3.8.0"
  }
 },
 "nbformat": 4,
 "nbformat_minor": 2
}
