{
 "cells": [
  {
   "cell_type": "markdown",
   "metadata": {},
   "source": [
    "# Chapter 2 Object-Oriented Programming"
   ]
  },
  {
   "cell_type": "markdown",
   "metadata": {},
   "source": [
    "## 1) Give three examples of life-critical software applications."
   ]
  },
  {
   "cell_type": "code",
   "execution_count": null,
   "metadata": {},
   "outputs": [],
   "source": [
    "#1\n",
    "\n",
    "\"\"\"\n",
    "Three examples of life critical solutions are:\n",
    "1) The Holter monitor, this device is used to monitor heart rate of patients in a hospital\n",
    "it's very important to get the reedings from the sensors accurately.\n",
    "2) RADAR, this is a common instrument used to get the location of any flying aircraft via\n",
    "radio signals. It's important for a country's safety to know is anyone is attcking them.\n",
    "3) ECG monitor, This was recently introduced in Apple watch which helps the users to take\n",
    "an ECG on apple watch, which intern helps a lot of patients in critial situations or even\n",
    "notifiy them early.\n",
    "\"\"\""
   ]
  },
  {
   "cell_type": "markdown",
   "metadata": {},
   "source": [
    "## 2) Give an example of a software application in which adaptability can mean the difference between a prolonged lifetime of sales and bankruptcy.\n"
   ]
  },
  {
   "cell_type": "code",
   "execution_count": null,
   "metadata": {},
   "outputs": [],
   "source": [
    "#2\n",
    "\"\"\"\n",
    "Nokia and blackberry are a great example of this. The decision to not adapt to android made\n",
    "them bankrupt further more late adaptation is also not a good bet, as nokia still tried\n",
    "to make phones with Andriod, but it was too late for them as the market had already been\n",
    "captured by giants like Apple and Google which are famous to adapt to new technologies.\n",
    "\"\"\""
   ]
  },
  {
   "cell_type": "markdown",
   "metadata": {},
   "source": [
    "## 3) Describe a component from a text-editor GUI and the methods that it encapsulates."
   ]
  },
  {
   "cell_type": "code",
   "execution_count": null,
   "metadata": {},
   "outputs": [],
   "source": [
    "#3\n",
    "\"\"\"\n",
    "Text Editors provide:\n",
    "Debugging\n",
    "Input Output\n",
    "Display Output\n",
    "Encoding\n",
    "File Handling\n",
    "\"\"\""
   ]
  },
  {
   "cell_type": "markdown",
   "metadata": {},
   "source": [
    "## 4) Write a Python class, Flower, that has three instance variables of type str, int, and float, that respectively represent the name of the flower, its number of petals, and its price. Your class must include a constructor method that initializes each variable to an appropriate value, and your class should include methods for setting the value of each type, and retrieving the value of each type."
   ]
  },
  {
   "cell_type": "code",
   "execution_count": 117,
   "metadata": {},
   "outputs": [],
   "source": [
    "#4\n",
    "class Flower:\n",
    "    \"\"\"This is the flower class with:\n",
    "    name of the flower\n",
    "    number of petals\n",
    "    Price of the flower\n",
    "    \"\"\"\n",
    "    def __init__(self,name=None,num_petals=None,price=None):\n",
    "        self.name=self.num_petals=self.price=None\n",
    "        \n",
    "        self.set_name(name)\n",
    "        self.set_petals(num_petals)\n",
    "        self.set_price(price)\n",
    "    \n",
    "    # our getters\n",
    "    def get_name(self):\n",
    "        if self.name == None:\n",
    "            return \"Value not set\"\n",
    "        return self.name\n",
    "    def get_petals(self):\n",
    "        if self.num_petals == None:\n",
    "            return \"Value not set\"\n",
    "        return self.num_petals\n",
    "    def get_price(self):\n",
    "        if self.price == None:\n",
    "            return \"Value not set\"\n",
    "        return self.price\n",
    "    \n",
    "    #our setters\n",
    "    def set_name(self,name):\n",
    "        try:\n",
    "            self.name=str(name)\n",
    "        except:\n",
    "            print(\"Provide a string!\")\n",
    "    def set_petals(self,petals):\n",
    "        try:\n",
    "            self.num_petals=int(petals)\n",
    "        except:\n",
    "            print(\"Provide a Number!\")\n",
    "        \n",
    "    def set_price(self,price):\n",
    "        try:\n",
    "            if price<0:\n",
    "                raise Exception\n",
    "            else:\n",
    "                self.price=float(price)\n",
    "        except:\n",
    "            print(\"Provide a appropriate Price!\")\n",
    "        "
   ]
  },
  {
   "cell_type": "code",
   "execution_count": 118,
   "metadata": {},
   "outputs": [],
   "source": [
    "F=Flower(\"Sun Flower\",10,20)"
   ]
  },
  {
   "cell_type": "code",
   "execution_count": 119,
   "metadata": {},
   "outputs": [
    {
     "data": {
      "text/plain": [
       "'Sun Flower'"
      ]
     },
     "execution_count": 119,
     "metadata": {},
     "output_type": "execute_result"
    }
   ],
   "source": [
    "F.get_name()"
   ]
  },
  {
   "cell_type": "code",
   "execution_count": 120,
   "metadata": {},
   "outputs": [
    {
     "data": {
      "text/plain": [
       "10"
      ]
     },
     "execution_count": 120,
     "metadata": {},
     "output_type": "execute_result"
    }
   ],
   "source": [
    "F.get_petals()"
   ]
  },
  {
   "cell_type": "code",
   "execution_count": 121,
   "metadata": {},
   "outputs": [
    {
     "data": {
      "text/plain": [
       "20.0"
      ]
     },
     "execution_count": 121,
     "metadata": {},
     "output_type": "execute_result"
    }
   ],
   "source": [
    "F.get_price()"
   ]
  },
  {
   "cell_type": "code",
   "execution_count": 122,
   "metadata": {},
   "outputs": [],
   "source": [
    "F.set_name(\"Rose\")"
   ]
  },
  {
   "cell_type": "code",
   "execution_count": 123,
   "metadata": {},
   "outputs": [],
   "source": [
    "F.set_petals(200)"
   ]
  },
  {
   "cell_type": "code",
   "execution_count": 124,
   "metadata": {},
   "outputs": [
    {
     "name": "stdout",
     "output_type": "stream",
     "text": [
      "Provide a appropriate Price!\n"
     ]
    }
   ],
   "source": [
    "F.set_price(-10)"
   ]
  },
  {
   "cell_type": "code",
   "execution_count": 125,
   "metadata": {},
   "outputs": [
    {
     "data": {
      "text/plain": [
       "'Rose'"
      ]
     },
     "execution_count": 125,
     "metadata": {},
     "output_type": "execute_result"
    }
   ],
   "source": [
    "F.get_name()"
   ]
  },
  {
   "cell_type": "code",
   "execution_count": 126,
   "metadata": {},
   "outputs": [
    {
     "data": {
      "text/plain": [
       "20.0"
      ]
     },
     "execution_count": 126,
     "metadata": {},
     "output_type": "execute_result"
    }
   ],
   "source": [
    "F.get_price()"
   ]
  },
  {
   "cell_type": "code",
   "execution_count": 127,
   "metadata": {},
   "outputs": [
    {
     "data": {
      "text/plain": [
       "200"
      ]
     },
     "execution_count": 127,
     "metadata": {},
     "output_type": "execute_result"
    }
   ],
   "source": [
    "F.get_petals()"
   ]
  },
  {
   "cell_type": "markdown",
   "metadata": {},
   "source": [
    "## 5) Use the techniques of Section 1.7 to revise the charge and make payment methods of the CreditCard class to ensure that the caller sends a number as a parameter."
   ]
  },
  {
   "cell_type": "code",
   "execution_count": 189,
   "metadata": {},
   "outputs": [],
   "source": [
    "#5\n",
    "class CreditCard:\n",
    "    \"\"\"A consumer credit card.\"\"\"\n",
    "    \n",
    "    def __init__(self,customer,bank,acnt,limit):\n",
    "        \"\"\"\n",
    "        Create a new credit card instance.\n",
    "        The initial balance is zero.\n",
    "        customer - the name of the customer (e.g., John Bowman )\n",
    "        bank - the name of the bank (e.g., California Savings ) \n",
    "        acnt - the acount identifier (e.g., 5391 0375 9387 5309 ) \n",
    "        limit - credit limit (measured in dollars)\n",
    "        \"\"\"\n",
    "        self._customer=customer\n",
    "        self._bank=bank\n",
    "        self._acnt=acnt\n",
    "        self._limit=limit\n",
    "        self._balance=0\n",
    "        \n",
    "    def get_customer(self):\n",
    "        \"\"\"Return name of the customer\"\"\"\n",
    "        return self._customer\n",
    "    \n",
    "    def get_bank(self):\n",
    "        \"\"\"Return the bank's name\"\"\" \n",
    "        return self._bank\n",
    "    \n",
    "    def get_account(self):\n",
    "        \"\"\"Return the card identifying number (typically stored as a string\"\"\"\n",
    "        return self._acnt\n",
    "    \n",
    "    def get_limit(self):\n",
    "        \"\"\"Return current credit limit\"\"\"\n",
    "        return self._limit\n",
    "    \n",
    "    def get_balance(self):\n",
    "        \"\"\"Return current balance\"\"\"\n",
    "        return self._balance\n",
    "    \n",
    "    def charge(self,price):\n",
    "        \"\"\"\n",
    "        Charge given price to the card, assuming sufficient credit limit.\n",
    "        Return True if charge was processed; False if charge was denied. \n",
    "        \"\"\"\n",
    "        try:\n",
    "            price=int(price)\n",
    "            if price+self._balance>self._limit or price<0:\n",
    "                return False\n",
    "            else:\n",
    "                self._balance+=price\n",
    "                return True\n",
    "        except:\n",
    "            print(\"Please enter a valid price!\")\n",
    "    def make_payment(self,amount):\n",
    "        \"\"\"Process customer payment that reduces balance\"\"\"\n",
    "        try:\n",
    "            amount=int(amount)\n",
    "            if amount<0:\n",
    "                raise Exception\n",
    "            self._balance-=amount\n",
    "            return True\n",
    "        except:\n",
    "            print(\"Not a valid amount!\")\n",
    "            return False"
   ]
  },
  {
   "cell_type": "code",
   "execution_count": 190,
   "metadata": {},
   "outputs": [],
   "source": [
    "C=CreditCard(\"Abhinav\",\"HDFC\",7658765679862343,35000)"
   ]
  },
  {
   "cell_type": "code",
   "execution_count": 191,
   "metadata": {},
   "outputs": [
    {
     "data": {
      "text/plain": [
       "'Abhinav'"
      ]
     },
     "execution_count": 191,
     "metadata": {},
     "output_type": "execute_result"
    }
   ],
   "source": [
    "C.get_customer()"
   ]
  },
  {
   "cell_type": "code",
   "execution_count": 192,
   "metadata": {},
   "outputs": [
    {
     "data": {
      "text/plain": [
       "'HDFC'"
      ]
     },
     "execution_count": 192,
     "metadata": {},
     "output_type": "execute_result"
    }
   ],
   "source": [
    "C.get_bank()"
   ]
  },
  {
   "cell_type": "code",
   "execution_count": 193,
   "metadata": {},
   "outputs": [
    {
     "data": {
      "text/plain": [
       "7658765679862343"
      ]
     },
     "execution_count": 193,
     "metadata": {},
     "output_type": "execute_result"
    }
   ],
   "source": [
    "C.get_account()"
   ]
  },
  {
   "cell_type": "code",
   "execution_count": 194,
   "metadata": {},
   "outputs": [
    {
     "data": {
      "text/plain": [
       "35000"
      ]
     },
     "execution_count": 194,
     "metadata": {},
     "output_type": "execute_result"
    }
   ],
   "source": [
    "C.get_limit()"
   ]
  },
  {
   "cell_type": "code",
   "execution_count": 195,
   "metadata": {},
   "outputs": [
    {
     "data": {
      "text/plain": [
       "0"
      ]
     },
     "execution_count": 195,
     "metadata": {},
     "output_type": "execute_result"
    }
   ],
   "source": [
    "C.get_balance()"
   ]
  },
  {
   "cell_type": "code",
   "execution_count": 196,
   "metadata": {},
   "outputs": [
    {
     "data": {
      "text/plain": [
       "True"
      ]
     },
     "execution_count": 196,
     "metadata": {},
     "output_type": "execute_result"
    }
   ],
   "source": [
    "C.charge(500)"
   ]
  },
  {
   "cell_type": "code",
   "execution_count": 197,
   "metadata": {},
   "outputs": [
    {
     "data": {
      "text/plain": [
       "500"
      ]
     },
     "execution_count": 197,
     "metadata": {},
     "output_type": "execute_result"
    }
   ],
   "source": [
    "C.get_balance()"
   ]
  },
  {
   "cell_type": "code",
   "execution_count": 198,
   "metadata": {},
   "outputs": [
    {
     "data": {
      "text/plain": [
       "False"
      ]
     },
     "execution_count": 198,
     "metadata": {},
     "output_type": "execute_result"
    }
   ],
   "source": [
    "C.charge(-500)"
   ]
  },
  {
   "cell_type": "code",
   "execution_count": 199,
   "metadata": {},
   "outputs": [
    {
     "name": "stdout",
     "output_type": "stream",
     "text": [
      "Please enter a valid price!\n"
     ]
    }
   ],
   "source": [
    "C.charge(\"HEY\")"
   ]
  },
  {
   "cell_type": "code",
   "execution_count": 200,
   "metadata": {},
   "outputs": [
    {
     "data": {
      "text/plain": [
       "True"
      ]
     },
     "execution_count": 200,
     "metadata": {},
     "output_type": "execute_result"
    }
   ],
   "source": [
    "C.make_payment(200)"
   ]
  },
  {
   "cell_type": "code",
   "execution_count": 201,
   "metadata": {},
   "outputs": [
    {
     "data": {
      "text/plain": [
       "300"
      ]
     },
     "execution_count": 201,
     "metadata": {},
     "output_type": "execute_result"
    }
   ],
   "source": [
    "C.get_balance()"
   ]
  },
  {
   "cell_type": "code",
   "execution_count": 202,
   "metadata": {},
   "outputs": [
    {
     "name": "stdout",
     "output_type": "stream",
     "text": [
      "Not a valid amount!\n"
     ]
    },
    {
     "data": {
      "text/plain": [
       "False"
      ]
     },
     "execution_count": 202,
     "metadata": {},
     "output_type": "execute_result"
    }
   ],
   "source": [
    "C.make_payment(-200)"
   ]
  },
  {
   "cell_type": "code",
   "execution_count": 203,
   "metadata": {},
   "outputs": [
    {
     "name": "stdout",
     "output_type": "stream",
     "text": [
      "Not a valid amount!\n"
     ]
    },
    {
     "data": {
      "text/plain": [
       "False"
      ]
     },
     "execution_count": 203,
     "metadata": {},
     "output_type": "execute_result"
    }
   ],
   "source": [
    "C.make_payment(\"HEY\")"
   ]
  },
  {
   "cell_type": "markdown",
   "metadata": {},
   "source": [
    "## 6) If the parameter to the make payment method of the CreditCard class were a negative number, that would have the effect of raising the balance on the account. Revise the implementation so that it raises a ValueError if a negative value is sent."
   ]
  },
  {
   "cell_type": "code",
   "execution_count": null,
   "metadata": {},
   "outputs": [],
   "source": [
    "#6\n",
    "\"\"\"\n",
    "this problem has been already addressed in the above implementation\n",
    "here => \n",
    "if amount<0:\n",
    "            raise Exception\n",
    "\"\"\""
   ]
  },
  {
   "cell_type": "markdown",
   "metadata": {},
   "source": [
    "## 7) The CreditCard class of Section 2.3 initializes the balance of a new account to zero. Modify that class so that a new account can be given a nonzero balance using an optional fifth parameter to the constructor. The four-parameter constructor syntax should continue to produce an account with zero balance.\n"
   ]
  },
  {
   "cell_type": "code",
   "execution_count": 205,
   "metadata": {},
   "outputs": [],
   "source": [
    "#7\n",
    "class BalanceCreditCard(CreditCard):\n",
    "    \"\"\"\n",
    "    This class is the sub class of CreditCard,\n",
    "    the initial balance here would not be zero but would be updated by the bank\n",
    "    \"\"\"\n",
    "    def __init__(self,customer,bank,acnt,limit,balance):\n",
    "        super().__init__(customer,bank,acnt,limit)\n",
    "        self._balance=balance"
   ]
  },
  {
   "cell_type": "code",
   "execution_count": 206,
   "metadata": {},
   "outputs": [],
   "source": [
    "BCC = BalanceCreditCard(\"Alicia\",\"Citi Bank\",7382447295326547,40000,2090)"
   ]
  },
  {
   "cell_type": "code",
   "execution_count": 207,
   "metadata": {},
   "outputs": [
    {
     "data": {
      "text/plain": [
       "'Alicia'"
      ]
     },
     "execution_count": 207,
     "metadata": {},
     "output_type": "execute_result"
    }
   ],
   "source": [
    "BCC.get_customer()"
   ]
  },
  {
   "cell_type": "code",
   "execution_count": 208,
   "metadata": {},
   "outputs": [
    {
     "data": {
      "text/plain": [
       "2090"
      ]
     },
     "execution_count": 208,
     "metadata": {},
     "output_type": "execute_result"
    }
   ],
   "source": [
    "BCC.get_balance()"
   ]
  },
  {
   "cell_type": "code",
   "execution_count": 209,
   "metadata": {},
   "outputs": [
    {
     "data": {
      "text/plain": [
       "True"
      ]
     },
     "execution_count": 209,
     "metadata": {},
     "output_type": "execute_result"
    }
   ],
   "source": [
    "BCC.make_payment(90)"
   ]
  },
  {
   "cell_type": "code",
   "execution_count": 210,
   "metadata": {},
   "outputs": [
    {
     "data": {
      "text/plain": [
       "2000"
      ]
     },
     "execution_count": 210,
     "metadata": {},
     "output_type": "execute_result"
    }
   ],
   "source": [
    "BCC.get_balance()"
   ]
  },
  {
   "cell_type": "code",
   "execution_count": 211,
   "metadata": {},
   "outputs": [
    {
     "data": {
      "text/plain": [
       "True"
      ]
     },
     "execution_count": 211,
     "metadata": {},
     "output_type": "execute_result"
    }
   ],
   "source": [
    "BCC.charge(100)"
   ]
  },
  {
   "cell_type": "code",
   "execution_count": 212,
   "metadata": {},
   "outputs": [
    {
     "data": {
      "text/plain": [
       "2100"
      ]
     },
     "execution_count": 212,
     "metadata": {},
     "output_type": "execute_result"
    }
   ],
   "source": [
    "BCC.get_balance()"
   ]
  },
  {
   "cell_type": "markdown",
   "metadata": {},
   "source": [
    "## 8) Modify the declaration of the first for loop in the CreditCard tests, from Code Fragment 2.3, so that it will eventually cause exactly one of the three credit cards to go over its credit limit. Which credit card is it?"
   ]
  },
  {
   "cell_type": "code",
   "execution_count": 236,
   "metadata": {},
   "outputs": [
    {
     "name": "stdout",
     "output_type": "stream",
     "text": [
      "Customer =  John Bowman\n",
      "Bank =  California Savings\n",
      "Account =  56 5391 0375 9387 5309\n",
      "Limit =  2500\n",
      "Balance =  1770\n",
      "New balance =  1670\n",
      "New balance =  1570\n",
      "New balance =  1470\n",
      "New balance =  1370\n",
      "New balance =  1270\n",
      "New balance =  1170\n",
      "New balance =  1070\n",
      "New balance =  970\n",
      "New balance =  870\n",
      "New balance =  770\n",
      "New balance =  670\n",
      "New balance =  570\n",
      "New balance =  470\n",
      "New balance =  370\n",
      "New balance =  270\n",
      "New balance =  170\n",
      "New balance =  70\n",
      "\n",
      "\n",
      "\n",
      "Customer =  John Bowman\n",
      "Bank =  California Federal\n",
      "Account =  3485 0399 3395 1954\n",
      "Limit =  3500\n",
      "Balance =  3422\n",
      "New balance =  3322\n",
      "New balance =  3222\n",
      "New balance =  3122\n",
      "New balance =  3022\n",
      "New balance =  2922\n",
      "New balance =  2822\n",
      "New balance =  2722\n",
      "New balance =  2622\n",
      "New balance =  2522\n",
      "New balance =  2422\n",
      "New balance =  2322\n",
      "New balance =  2222\n",
      "New balance =  2122\n",
      "New balance =  2022\n",
      "New balance =  1922\n",
      "New balance =  1822\n",
      "New balance =  1722\n",
      "New balance =  1622\n",
      "New balance =  1522\n",
      "New balance =  1422\n",
      "New balance =  1322\n",
      "New balance =  1222\n",
      "New balance =  1122\n",
      "New balance =  1022\n",
      "New balance =  922\n",
      "New balance =  822\n",
      "New balance =  722\n",
      "New balance =  622\n",
      "New balance =  522\n",
      "New balance =  422\n",
      "New balance =  322\n",
      "New balance =  222\n",
      "New balance =  122\n",
      "New balance =  22\n",
      "\n",
      "\n",
      "\n",
      "Customer =  John Bowman\n",
      "Bank =  California Finance\n",
      "Account =  5391 0375 9387 5309\n",
      "Limit =  5000\n",
      "Balance =  4959\n",
      "New balance =  4859\n",
      "New balance =  4759\n",
      "New balance =  4659\n",
      "New balance =  4559\n",
      "New balance =  4459\n",
      "New balance =  4359\n",
      "New balance =  4259\n",
      "New balance =  4159\n",
      "New balance =  4059\n",
      "New balance =  3959\n",
      "New balance =  3859\n",
      "New balance =  3759\n",
      "New balance =  3659\n",
      "New balance =  3559\n",
      "New balance =  3459\n",
      "New balance =  3359\n",
      "New balance =  3259\n",
      "New balance =  3159\n",
      "New balance =  3059\n",
      "New balance =  2959\n",
      "New balance =  2859\n",
      "New balance =  2759\n",
      "New balance =  2659\n",
      "New balance =  2559\n",
      "New balance =  2459\n",
      "New balance =  2359\n",
      "New balance =  2259\n",
      "New balance =  2159\n",
      "New balance =  2059\n",
      "New balance =  1959\n",
      "New balance =  1859\n",
      "New balance =  1759\n",
      "New balance =  1659\n",
      "New balance =  1559\n",
      "New balance =  1459\n",
      "New balance =  1359\n",
      "New balance =  1259\n",
      "New balance =  1159\n",
      "New balance =  1059\n",
      "New balance =  959\n",
      "New balance =  859\n",
      "New balance =  759\n",
      "New balance =  659\n",
      "New balance =  559\n",
      "New balance =  459\n",
      "New balance =  359\n",
      "New balance =  259\n",
      "New balance =  159\n",
      "New balance =  59\n",
      "\n",
      "\n",
      "\n"
     ]
    }
   ],
   "source": [
    "#8\n",
    "wallet = []\n",
    "\n",
    "wallet.append(CreditCard('John Bowman' , 'California Savings' ,'56 5391 0375 9387 5309' , 2500))\n",
    "wallet.append(CreditCard('John Bowman' , 'California Federal' ,'3485 0399 3395 1954' , 3500))\n",
    "wallet.append(CreditCard('John Bowman' , 'California Finance' ,'5391 0375 9387 5309' , 5000))\n",
    "# at 60 the balance of the 3rd card will exceed the limit\n",
    "for val in range(1,60):\n",
    "    wallet[0].charge(val)\n",
    "    wallet[1].charge(2*val)\n",
    "    wallet[2].charge(3*val)\n",
    "for c in range(3):\n",
    "    print( \"Customer = \", wallet[c].get_customer())\n",
    "    print( \"Bank = \", wallet[c].get_bank())\n",
    "    print( \"Account = \", wallet[c].get_account())\n",
    "    print( \"Limit = \", wallet[c].get_limit())\n",
    "    print( \"Balance = \", wallet[c].get_balance())\n",
    "    while wallet[c].get_balance()>100:\n",
    "        wallet[c].make_payment(100)\n",
    "        print( \"New balance = \", wallet[c].get_balance())\n",
    "    print(\"\\n\\n\")"
   ]
  },
  {
   "cell_type": "markdown",
   "metadata": {},
   "source": [
    "## 9) R-2.9 Implement the __sub__ method for the Vector class of Section 2.3.3, so that the expression u−v returns a new vector instance representing the difference between two vectors."
   ]
  },
  {
   "cell_type": "code",
   "execution_count": null,
   "metadata": {},
   "outputs": [],
   "source": [
    "#9\n",
    "class Vector:\n",
    "    \"\"\"\n",
    "    This class will provide operations on a vector\n",
    "    \"\"\"\n",
    "    def __init__(self,size):\n",
    "        \"\"\" This is here to make a vector of dimension \"size\" \"\"\" \n",
    "        self._vector=[0]*size\n",
    "    def __len__(self):\n",
    "        \"\"\" Dimention of the vector\"\"\"\n",
    "        return len(self._vector)"
   ]
  }
 ],
 "metadata": {
  "kernelspec": {
   "display_name": "Python 3",
   "language": "python",
   "name": "python3"
  },
  "language_info": {
   "codemirror_mode": {
    "name": "ipython",
    "version": 3
   },
   "file_extension": ".py",
   "mimetype": "text/x-python",
   "name": "python",
   "nbconvert_exporter": "python",
   "pygments_lexer": "ipython3",
   "version": "3.8.0"
  }
 },
 "nbformat": 4,
 "nbformat_minor": 2
}
