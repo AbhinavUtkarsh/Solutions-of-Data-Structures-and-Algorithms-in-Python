{
 "cells": [
  {
   "cell_type": "markdown",
   "metadata": {},
   "source": [
    "# Chapter 2 Object-Oriented Programming"
   ]
  },
  {
   "cell_type": "markdown",
   "metadata": {},
   "source": [
    "## 1) Give three examples of life-critical software applications."
   ]
  },
  {
   "cell_type": "code",
   "execution_count": null,
   "metadata": {},
   "outputs": [],
   "source": [
    "#1\n",
    "\n",
    "\"\"\"\n",
    "Three examples of life critical solutions are:\n",
    "1) The Holter monitor, this device is used to monitor heart rate of patients in a hospital\n",
    "it's very important to get the reedings from the sensors accurately.\n",
    "2) RADAR, this is a common instrument used to get the location of any flying aircraft via\n",
    "radio signals. It's important for a country's safety to know is anyone is attcking them.\n",
    "3) ECG monitor, This was recently introduced in Apple watch which helps the users to take\n",
    "an ECG on apple watch, which intern helps a lot of patients in critial situations or even\n",
    "notifiy them early.\n",
    "\"\"\""
   ]
  },
  {
   "cell_type": "markdown",
   "metadata": {},
   "source": [
    "## 2) Give an example of a software application in which adaptability can mean the difference between a prolonged lifetime of sales and bankruptcy.\n"
   ]
  },
  {
   "cell_type": "code",
   "execution_count": null,
   "metadata": {},
   "outputs": [],
   "source": [
    "#2\n",
    "\"\"\"\n",
    "Nokia and blackberry are a great example of this. The decision to not adapt to android made\n",
    "them bankrupt further more late adaptation is also not a good bet, as nokia still tried\n",
    "to make phones with Andriod, but it was too late for them as the market had already been\n",
    "captured by giants like Apple and Google which are famous to adapt to new technologies.\n",
    "\"\"\""
   ]
  },
  {
   "cell_type": "markdown",
   "metadata": {},
   "source": [
    "## 3) Describe a component from a text-editor GUI and the methods that it encapsulates."
   ]
  },
  {
   "cell_type": "code",
   "execution_count": null,
   "metadata": {},
   "outputs": [],
   "source": [
    "#3\n",
    "\"\"\"\n",
    "Text Editors provide:\n",
    "Debugging\n",
    "Input Output\n",
    "Display Output\n",
    "Encoding\n",
    "File Handling\n",
    "\"\"\""
   ]
  },
  {
   "cell_type": "markdown",
   "metadata": {},
   "source": [
    "## 4) Write a Python class, Flower, that has three instance variables of type str, int, and float, that respectively represent the name of the flower, its num- ber of petals, and its price. Your class must include a constructor method that initializes each variable to an appropriate value, and your class should include methods for setting the value of each type, and retrieving the value of each type."
   ]
  },
  {
   "cell_type": "code",
   "execution_count": null,
   "metadata": {},
   "outputs": [],
   "source": [
    "#4\n"
   ]
  }
 ],
 "metadata": {
  "kernelspec": {
   "display_name": "Python 3",
   "language": "python",
   "name": "python3"
  },
  "language_info": {
   "codemirror_mode": {
    "name": "ipython",
    "version": 3
   },
   "file_extension": ".py",
   "mimetype": "text/x-python",
   "name": "python",
   "nbconvert_exporter": "python",
   "pygments_lexer": "ipython3",
   "version": "3.8.0"
  }
 },
 "nbformat": 4,
 "nbformat_minor": 2
}
